{
 "cells": [
  {
   "cell_type": "code",
   "execution_count": 2,
   "id": "7d7bed49",
   "metadata": {},
   "outputs": [],
   "source": [
    "import sys\n",
    "sys.path.append(\"..\")\n",
    "import torch\n",
    "import matplotlib.pyplot as plt\n",
    "plt.rcParams[\"figure.figsize\"] = [4,1]\n",
    "torch.manual_seed(0)\n",
    "\n",
    "from engression import engression\n",
    "from src.simulator import binary_simulator, thresholder"
   ]
  },
  {
   "cell_type": "code",
   "execution_count": 3,
   "id": "fb3206c7",
   "metadata": {},
   "outputs": [],
   "source": [
    "device = torch.device(\"cuda\" if torch.cuda.is_available() else \"cpu\")"
   ]
  },
  {
   "cell_type": "code",
   "execution_count": 4,
   "id": "de37c0d1",
   "metadata": {},
   "outputs": [],
   "source": [
    "x, y = binary_simulator(\"cubic\", n=10000, x_lower=0, x_upper=1, noise_std=0.05, train=True, device=device)\n",
    "x_eval, y_eval_med, y_eval_mean = binary_simulator(\"cubic\", n=1000, x_lower=0, x_upper=1, noise_std=0.05, train=False, device=device)\n"
   ]
  },
  {
   "cell_type": "code",
   "execution_count": 6,
   "id": "20be18ff",
   "metadata": {},
   "outputs": [
    {
     "data": {
      "text/plain": [
       "<matplotlib.collections.PathCollection at 0x11dcdf040>"
      ]
     },
     "execution_count": 6,
     "metadata": {},
     "output_type": "execute_result"
    },
    {
     "data": {
      "image/png": "[encoded data removed]",
      "text/plain": [
       "<Figure size 400x100 with 1 Axes>"
      ]
     },
     "metadata": {},
     "output_type": "display_data"
    }
   ],
   "source": [
    "plt.scatter(x.cpu(), y.cpu(), label=\"training data\", s=1, color=\"silver\")"
   ]
  },
  {
   "cell_type": "code",
   "execution_count": 7,
   "id": "1df1a8b9",
   "metadata": {},
   "outputs": [
    {
     "data": {
      "text/plain": [
       "<matplotlib.collections.PathCollection at 0x11ed0f100>"
      ]
     },
     "execution_count": 7,
     "metadata": {},
     "output_type": "execute_result"
    },
    {
     "data": {
      "image/png": "[encoded data removed]",
      "text/plain": [
       "<Figure size 400x100 with 1 Axes>"
      ]
     },
     "metadata": {},
     "output_type": "display_data"
    }
   ],
   "source": [
    "plt.scatter(x_eval.cpu(), y_eval_mean.cpu(), label=\"true mean\", color=\"C3\")"
   ]
  },
  {
   "cell_type": "code",
   "execution_count": 8,
   "id": "7713714c",
   "metadata": {},
   "outputs": [
    {
     "data": {
      "text/plain": [
       "<matplotlib.collections.PathCollection at 0x11e9cb940>"
      ]
     },
     "execution_count": 8,
     "metadata": {},
     "output_type": "execute_result"
    },
    {
     "data": {
      "image/png": "[encoded data removed]",
      "text/plain": [
       "<Figure size 400x100 with 1 Axes>"
      ]
     },
     "metadata": {},
     "output_type": "display_data"
    }
   ],
   "source": [
    "plt.scatter(x_eval.cpu(), y_eval_med.cpu(), label=\"true median\", color=\"C3\")"
   ]
  },
  {
   "cell_type": "code",
   "execution_count": 9,
   "id": "6e676c96",
   "metadata": {},
   "outputs": [
    {
     "name": "stdout",
     "output_type": "stream",
     "text": [
      "Running on CPU.\n",
      "\n",
      "Data is standardized for training only; the printed training losses are on the standardized scale. \n",
      "However during evaluation, the predictions, evaluation metrics, and plots will be on the original scale.\n",
      "\n",
      "Training based on mini-batch gradient descent with a batch size of 1000.\n",
      "[Epoch 1 (0%), batch 9] energy-loss: 0.6191,  E(|Y-Yhat|): 1.1491,  E(|Yhat-Yhat'|): 1.0600\n",
      "[Epoch 100 (20%), batch 9] energy-loss: 0.4746,  E(|Y-Yhat|): 0.9482,  E(|Yhat-Yhat'|): 0.9473\n",
      "[Epoch 200 (40%), batch 9] energy-loss: 0.4029,  E(|Y-Yhat|): 0.8393,  E(|Yhat-Yhat'|): 0.8728\n",
      "[Epoch 300 (60%), batch 9] energy-loss: 0.3469,  E(|Y-Yhat|): 0.7040,  E(|Yhat-Yhat'|): 0.7141\n",
      "[Epoch 400 (80%), batch 9] energy-loss: 0.3080,  E(|Y-Yhat|): 0.6121,  E(|Yhat-Yhat'|): 0.6082\n",
      "[Epoch 500 (100%), batch 9] energy-loss: 0.2815,  E(|Y-Yhat|): 0.5792,  E(|Yhat-Yhat'|): 0.5954\n",
      "\n",
      "Training loss on the original (non-standardized) scale:\n",
      "\tEnergy-loss: 0.1367,  E(|Y-Yhat|): 0.2892,  E(|Yhat-Yhat'|): 0.3049\n",
      "\n",
      "Prediction-loss E(|Y-Yhat|) and variance-loss E(|Yhat-Yhat'|) should ideally be equally large\n",
      "-- consider training for more epochs or adjusting hyperparameters if there is a mismatch \n"
     ]
    }
   ],
   "source": [
    "\n",
    "# Fit an engression model\n",
    "engressor = engression(x, y, lr=0.005, num_epochs=500, batch_size=1000, device=device)"
   ]
  },
  {
   "cell_type": "code",
   "execution_count": 11,
   "id": "64863946",
   "metadata": {},
   "outputs": [
    {
     "name": "stdout",
     "output_type": "stream",
     "text": [
      "Engression model with\n",
      "\t number of layers: 2\n",
      "\t hidden dimensions: 100\n",
      "\t noise dimensions: 100\n",
      "\t residual blocks: False\n",
      "\t number of epochs: 500\n",
      "\t batch size: 1000\n",
      "\t learning rate: 0.005\n",
      "\t standardization: True\n",
      "\t training mode: False\n",
      "\t device: cpu\n",
      "\n",
      "Training loss (original scale):\n",
      "\t energy-loss: 0.14, \n",
      "\tE(|Y-Yhat|): 0.29, \n",
      "\tE(|Yhat-Yhat'|): 0.30\n"
     ]
    }
   ],
   "source": [
    "# Summarize model information\n",
    "engressor.summary()"
   ]
  },
  {
   "cell_type": "code",
   "execution_count": 12,
   "id": "703a8e27",
   "metadata": {},
   "outputs": [
    {
     "name": "stdout",
     "output_type": "stream",
     "text": [
      "L2 loss: 0.009396946057677269\n",
      "correlation between predicted and true means: 0.9708878397941589\n"
     ]
    }
   ],
   "source": [
    "# Evaluation\n",
    "print(\"L2 loss:\", engressor.eval_loss(x_eval, y_eval_mean, loss_type=\"l2\"))\n",
    "print(\"correlation between predicted and true means:\", engressor.eval_loss(x_eval, y_eval_mean, loss_type=\"cor\"))\n"
   ]
  },
  {
   "cell_type": "code",
   "execution_count": 13,
   "id": "1f4ad546",
   "metadata": {},
   "outputs": [],
   "source": [
    "# Predictions\n",
    "y_pred = engressor.predict(x_eval, target=\"mean\", sample_size=1000)"
   ]
  },
  {
   "cell_type": "code",
   "execution_count": 14,
   "id": "3c884f78",
   "metadata": {},
   "outputs": [
    {
     "data": {
      "image/png": "[encoded data removed]",
      "text/plain": [
       "<Figure size 400x100 with 1 Axes>"
      ]
     },
     "metadata": {},
     "output_type": "display_data"
    }
   ],
   "source": [
    "\n",
    "plt.scatter(x.cpu(), y.cpu(), label=\"training data\", s=1, color=\"silver\")\n",
    "plt.plot(x_eval.cpu(), y_eval_mean.cpu(), label=\"true mean\", color=\"C3\")\n",
    "plt.scatter(x_eval.cpu(), y_pred.cpu(), label=\"predictions\", s=1)\n",
    "plt.ylim(-0.1, 1.1)\n",
    "plt.legend(loc=\"center left\", bbox_to_anchor=(1, 0.5)); plt.show()"
   ]
  },
  {
   "cell_type": "code",
   "execution_count": 15,
   "id": "d7328b39",
   "metadata": {},
   "outputs": [],
   "source": [
    "y_sample = engressor.sample(x_eval, sample_size=1000)"
   ]
  },
  {
   "cell_type": "code",
   "execution_count": 18,
   "id": "fd45c96f",
   "metadata": {},
   "outputs": [
    {
     "data": {
      "text/plain": [
       "tensor([[[ 3.2378e-02,  5.3444e-02, -6.4030e-03,  ..., -3.6086e-02,\n",
       "           1.3378e-01, -1.3495e-02]],\n",
       "\n",
       "        [[-1.4703e-02, -3.5111e-02,  1.0087e-01,  ...,  1.6690e-03,\n",
       "          -4.9642e-03,  7.3801e-02]],\n",
       "\n",
       "        [[ 9.6499e-02,  7.7550e-02, -2.4104e-02,  ...,  1.4997e-02,\n",
       "           1.4228e-01, -1.4285e-02]],\n",
       "\n",
       "        ...,\n",
       "\n",
       "        [[ 1.7776e+00,  5.9429e-01,  9.9744e-01,  ...,  1.3260e+00,\n",
       "           1.2052e+00,  8.6490e-01]],\n",
       "\n",
       "        [[ 1.0726e+00,  1.4837e+00,  1.7610e+00,  ...,  1.3265e+00,\n",
       "           1.2457e+00,  1.4516e+00]],\n",
       "\n",
       "        [[ 9.8015e-01,  1.0318e+00,  1.3238e+00,  ...,  1.4300e+00,\n",
       "           1.3689e+00,  1.3055e+00]]])"
      ]
     },
     "execution_count": 18,
     "metadata": {},
     "output_type": "execute_result"
    }
   ],
   "source": [
    "y_sample"
   ]
  },
  {
   "cell_type": "code",
   "execution_count": 19,
   "id": "e9d393c8",
   "metadata": {},
   "outputs": [
    {
     "data": {
      "text/plain": [
       "torch.Size([1000, 1, 1000])"
      ]
     },
     "execution_count": 19,
     "metadata": {},
     "output_type": "execute_result"
    }
   ],
   "source": [
    "y_sample.size()"
   ]
  },
  {
   "cell_type": "code",
   "execution_count": 21,
   "id": "bed4ba18",
   "metadata": {},
   "outputs": [
    {
     "data": {
      "text/plain": [
       "tensor([[ 3.2378e-02,  5.3444e-02, -6.4030e-03, -5.3966e-02, -3.0268e-02,\n",
       "          3.9336e-02,  7.1626e-02, -8.7882e-03,  1.7597e-01,  8.4928e-02,\n",
       "          9.8952e-02,  4.2934e-03,  4.2524e-02,  6.2995e-02, -6.5852e-03,\n",
       "          4.1409e-02,  1.7102e-03,  1.0079e-01,  4.0058e-03,  2.3483e-02,\n",
       "         -2.4069e-02,  7.9042e-02, -1.3224e-02, -4.7511e-03,  1.5214e-02,\n",
       "          7.7633e-02,  7.6613e-03,  9.4208e-02,  1.2096e-01, -4.2908e-02,\n",
       "          6.9050e-02,  6.8431e-02,  1.9515e-01,  5.0555e-02,  3.2366e-02,\n",
       "          1.0402e-01,  9.8314e-02,  7.3399e-03, -3.2926e-03,  1.8138e-01,\n",
       "         -2.5861e-02,  1.0723e-01,  1.0251e-01, -3.3828e-02, -1.8744e-02,\n",
       "          1.6002e-02,  9.0977e-02, -1.8314e-02,  2.5811e-02,  1.8496e-02,\n",
       "          5.3874e-02,  1.7535e-01, -4.3904e-02,  3.0642e-02,  1.0761e-01,\n",
       "         -1.4489e-02, -1.5492e-02,  1.1240e-01,  1.2958e-01, -3.0765e-02,\n",
       "         -1.2024e-02, -4.8466e-02,  4.4757e-02,  6.4323e-03,  8.8518e-02,\n",
       "         -2.9646e-02,  9.1103e-02, -5.9791e-03,  1.1349e-01,  3.4258e-02,\n",
       "          4.0617e-02, -5.8028e-02,  1.4597e-01,  8.4204e-02,  8.0530e-02,\n",
       "          2.0407e-02,  4.7398e-02,  7.1186e-02,  7.1065e-02,  5.9149e-02,\n",
       "         -6.1574e-02, -1.0617e-02, -6.0835e-03,  5.3338e-02,  1.3059e-01,\n",
       "          1.7757e-03,  1.4278e-01, -3.6170e-02,  1.0439e-01, -2.0256e-02,\n",
       "          1.9719e-02,  3.3294e-03,  9.9444e-02, -4.1632e-02, -1.2224e-01,\n",
       "          2.2206e-02,  5.7886e-02,  1.8832e-02,  6.1355e-02,  9.5716e-02,\n",
       "          9.4861e-02,  2.4987e-01, -3.8195e-02, -4.9959e-02, -7.8835e-02,\n",
       "          1.2132e-02,  9.5662e-02, -2.4451e-03,  1.6126e-01,  7.3153e-02,\n",
       "          7.4360e-02,  7.8644e-02,  1.6091e-02, -2.7196e-02,  6.1029e-03,\n",
       "          1.2905e-02,  1.7900e-01,  3.3209e-02,  1.7069e-02,  3.7270e-02,\n",
       "          2.3616e-02,  1.9134e-02, -7.5162e-02,  1.0449e-01,  3.3567e-02,\n",
       "          7.5855e-02,  1.4779e-02,  5.8099e-02,  6.9718e-02,  9.9828e-02,\n",
       "          1.1292e-01, -7.9455e-03, -6.4251e-02, -3.1376e-02,  6.4419e-02,\n",
       "         -3.5261e-02,  7.6080e-02,  4.7367e-02,  1.0782e-01,  2.8068e-01,\n",
       "         -1.2143e-01,  6.7728e-02,  1.0841e-01,  1.7416e-02,  5.9190e-03,\n",
       "         -2.1230e-02,  2.0230e-02, -4.5818e-02,  5.0107e-02,  8.3915e-02,\n",
       "         -8.4562e-02,  6.5626e-02,  3.8167e-02,  9.7471e-02,  1.5707e-02,\n",
       "          1.4767e-01, -9.0782e-02,  1.3424e-01,  1.2890e-01, -2.6018e-02,\n",
       "          6.1576e-02, -1.5267e-02,  2.6886e-02,  1.9869e-01,  3.7795e-02,\n",
       "          1.2613e-02,  6.6302e-03,  2.9020e-02,  1.4136e-02,  1.0262e-01,\n",
       "         -1.9892e-02,  1.0366e-01,  1.9230e-01,  5.0669e-02,  1.3995e-01,\n",
       "         -7.6595e-02, -1.5659e-02,  1.3407e-01,  5.3130e-02,  9.0319e-02,\n",
       "          1.4082e-01,  7.1721e-02,  1.5066e-01,  5.6737e-02,  3.2766e-02,\n",
       "          1.5494e-01,  8.2781e-02,  9.9203e-04, -2.2356e-02, -6.2007e-03,\n",
       "          5.6562e-02,  5.0536e-02, -4.6948e-02,  2.8041e-02,  1.3112e-01,\n",
       "          1.8740e-02,  4.5157e-02,  3.3833e-02,  4.2743e-02, -1.6366e-02,\n",
       "          1.1803e-01,  2.9546e-02, -3.0296e-02,  1.7012e-02,  1.5978e-02,\n",
       "          5.6160e-02,  3.3704e-02,  9.8017e-02,  1.4616e-01,  7.4438e-02,\n",
       "         -4.9866e-02, -2.5058e-02,  1.0318e-01,  1.3296e-01,  9.7899e-02,\n",
       "         -5.9487e-02,  4.3657e-02,  1.5787e-01,  2.2998e-02,  9.5602e-02,\n",
       "          3.0559e-02,  2.0775e-01,  3.8177e-02,  3.7443e-02,  1.2432e-02,\n",
       "         -5.7640e-02, -9.0827e-03,  4.7628e-02,  9.9564e-02, -1.0069e-01,\n",
       "          4.1504e-02,  3.8633e-02,  5.6240e-02,  1.0186e-01,  1.7281e-01,\n",
       "          7.6595e-03,  5.9685e-02,  2.4819e-02,  1.0111e-01,  2.0856e-02,\n",
       "          1.6692e-02, -2.6302e-02, -1.1329e-01,  1.1327e-01,  3.6350e-02,\n",
       "          6.0978e-02, -2.7001e-03,  3.4450e-02, -3.3109e-02,  3.1744e-02,\n",
       "         -1.3018e-02, -6.9487e-02, -3.3099e-02, -5.3086e-02,  1.1314e-02,\n",
       "          1.1524e-01,  7.0190e-02, -2.6347e-02,  1.4090e-02,  3.1845e-03,\n",
       "          1.9214e-01,  5.1284e-02,  1.2942e-01, -6.8250e-02,  1.5361e-01,\n",
       "          1.3093e-02,  1.9955e-01,  6.1609e-02,  8.1602e-02, -1.6231e-02,\n",
       "          1.0640e-01,  6.9048e-02, -2.7709e-02,  1.1836e-01,  3.7894e-02,\n",
       "          5.9571e-02,  3.6234e-02,  8.4298e-02,  5.4323e-02,  7.0498e-02,\n",
       "          6.2644e-02, -2.1046e-02,  2.8869e-02,  1.7562e-01,  9.0497e-02,\n",
       "         -6.2099e-02, -1.0324e-01, -2.3026e-02, -3.1604e-02,  2.3190e-01,\n",
       "          1.0128e-01,  3.9447e-02,  7.2678e-02,  1.9643e-02, -3.4656e-02,\n",
       "          4.3321e-02, -5.6579e-03,  5.6282e-02, -6.6212e-02,  7.0306e-02,\n",
       "          3.0334e-03,  2.3613e-01,  2.9386e-02, -3.4567e-03,  6.0110e-02,\n",
       "          4.9040e-02,  3.3796e-03,  3.1109e-02, -1.0446e-02, -5.3465e-05,\n",
       "         -4.3115e-02,  1.1465e-01,  8.4175e-02,  8.5811e-02, -1.7762e-02,\n",
       "         -1.8477e-02,  5.8177e-02,  9.1538e-03,  2.3015e-03,  5.2084e-03,\n",
       "          5.5433e-02,  7.3645e-02, -6.0617e-03,  1.2732e-01,  3.2623e-02,\n",
       "          7.9994e-02,  2.2117e-03,  5.1332e-02, -3.3730e-02, -3.2893e-03,\n",
       "         -4.3655e-02,  3.1280e-01,  4.3483e-03,  5.2660e-03,  3.1603e-02,\n",
       "          4.5340e-02,  1.1299e-01,  8.4051e-02,  1.5235e-01, -1.0554e-02,\n",
       "          9.7204e-02,  1.3774e-01,  1.0084e-02,  1.2282e-01, -4.7666e-02,\n",
       "         -1.3616e-02,  7.8407e-02,  4.6751e-02,  7.6202e-02,  6.0714e-03,\n",
       "          7.9551e-02, -5.0206e-02, -8.3690e-02,  8.1889e-02,  3.4267e-02,\n",
       "          6.0652e-02,  1.4646e-01, -1.6351e-03,  6.8432e-02, -3.1746e-03,\n",
       "         -5.6826e-02,  1.2743e-02,  4.6457e-02, -4.6165e-02,  2.1546e-03,\n",
       "         -2.3929e-02, -8.2092e-02,  3.0967e-02, -3.7487e-02, -2.6502e-02,\n",
       "         -5.6311e-02,  9.5461e-03, -6.0467e-02, -8.2161e-03,  6.0532e-02,\n",
       "          9.9088e-02, -1.6712e-02,  1.1655e-02, -3.8711e-02,  1.6906e-02,\n",
       "         -4.4167e-02,  1.2159e-01,  3.7055e-02,  1.8429e-01,  3.3385e-02,\n",
       "          2.1515e-02,  1.2661e-03,  7.3212e-02, -6.9426e-03,  3.0620e-02,\n",
       "          1.6487e-01,  2.3097e-02,  7.8054e-02,  3.2999e-02,  2.8903e-02,\n",
       "         -3.3269e-02,  2.3484e-02, -8.4842e-02, -4.8679e-02, -3.2270e-02,\n",
       "          6.5804e-02,  2.8622e-02,  2.9664e-02,  1.5427e-01,  7.7827e-02,\n",
       "         -4.5456e-03,  2.1073e-02, -9.3692e-02,  2.8469e-02, -3.9828e-02,\n",
       "         -3.9372e-02,  4.0856e-02, -4.7028e-02,  3.1144e-02,  1.1036e-01,\n",
       "         -8.2421e-03,  3.2486e-02,  4.1862e-02,  3.3020e-02,  2.4489e-02,\n",
       "          1.9154e-02,  2.5275e-02,  2.0733e-02,  5.0467e-02,  1.4750e-01,\n",
       "         -8.8059e-03, -2.3939e-02,  2.2151e-03,  5.4486e-02, -4.2086e-02,\n",
       "          3.3841e-02,  1.0947e-01, -5.3902e-02,  2.3631e-02,  3.1894e-02,\n",
       "          1.1872e-01,  1.2354e-01,  8.0978e-02, -8.4950e-03, -6.3562e-02,\n",
       "          3.6164e-02,  8.1619e-02,  2.5573e-02,  4.0348e-02,  9.1915e-02,\n",
       "          2.9605e-02,  2.0528e-01, -5.3815e-03,  2.2278e-01, -6.2062e-02,\n",
       "          1.1446e-01,  2.2416e-02,  1.2552e-02,  4.7106e-03,  3.9489e-02,\n",
       "          1.4684e-01,  5.9072e-02, -5.9740e-02,  7.2371e-02,  1.4302e-01,\n",
       "         -5.9950e-02,  1.7047e-01,  1.1979e-01,  5.9860e-03, -5.9176e-02,\n",
       "          1.9821e-01,  1.9183e-01, -2.2719e-02,  2.2787e-01,  3.3227e-02,\n",
       "          1.2928e-02,  4.5180e-02,  9.1236e-02,  5.9331e-02,  1.9016e-01,\n",
       "          8.4515e-02,  1.5640e-02,  6.1929e-02,  9.8413e-02,  7.7631e-02,\n",
       "          4.2210e-02,  5.9410e-03, -4.7038e-02, -3.4435e-02,  6.8907e-02,\n",
       "          2.1531e-02,  2.4207e-02,  1.6146e-02,  1.8436e-01,  3.9841e-02,\n",
       "         -7.0723e-02, -3.6347e-02,  1.7226e-02, -2.9393e-02, -6.8616e-02,\n",
       "          7.4491e-02,  8.1244e-02,  1.8257e-01,  3.3655e-02, -1.5283e-01,\n",
       "          4.2426e-02,  8.3455e-02,  1.6866e-01,  8.8341e-02,  7.4944e-02,\n",
       "          5.7921e-04, -1.5031e-02,  1.7631e-01,  2.4529e-02,  6.8212e-02,\n",
       "          6.3330e-02, -3.4869e-04,  5.7822e-03, -1.1723e-01,  7.9155e-02,\n",
       "          1.1748e-04,  8.7083e-02,  9.2798e-02, -8.2965e-03,  5.7052e-02,\n",
       "          3.5610e-02, -9.2537e-02, -2.9248e-02,  1.5587e-01,  1.1910e-01,\n",
       "          1.9080e-02,  4.5337e-02,  5.9050e-02,  1.5277e-01,  1.3801e-01,\n",
       "          2.8861e-02,  7.8658e-02,  1.0880e-01,  1.2494e-01,  9.8114e-02,\n",
       "          2.2416e-02,  1.2046e-01, -4.7885e-02, -9.5452e-02, -2.8429e-02,\n",
       "         -3.4251e-02,  1.6284e-01,  6.1172e-02,  2.4830e-02, -6.5989e-02,\n",
       "          5.3888e-02, -3.4102e-02,  1.4778e-01,  7.9284e-02, -9.7892e-02,\n",
       "          2.5060e-02,  7.8536e-02,  2.4140e-02,  1.8823e-01,  3.1151e-02,\n",
       "          9.0722e-02,  1.4785e-03,  1.1432e-01,  1.1761e-01, -1.1301e-01,\n",
       "          1.3635e-01, -6.2006e-02,  2.0315e-02,  3.5043e-02,  7.3711e-02,\n",
       "         -1.0013e-02,  9.2081e-02,  4.7734e-02,  4.1931e-02,  1.1546e-01,\n",
       "          6.1021e-02, -5.3518e-03,  1.4416e-02, -4.3403e-03, -1.1231e-02,\n",
       "         -1.0136e-02,  3.8622e-02,  7.9375e-02, -6.8325e-02, -8.2353e-02,\n",
       "          6.3795e-02, -7.4262e-02,  5.0290e-02,  3.9097e-02,  7.9717e-02,\n",
       "          6.8259e-02,  1.5566e-02,  3.8664e-02,  2.1330e-01,  1.2610e-01,\n",
       "          3.2471e-02,  8.8515e-02,  3.5592e-01, -7.1030e-02, -8.8597e-03,\n",
       "          1.1629e-02, -5.7461e-02,  9.8603e-02, -1.8081e-02,  3.8124e-02,\n",
       "          3.5134e-02,  2.4017e-02, -4.5659e-03,  9.1875e-02,  6.6676e-02,\n",
       "          3.0041e-02, -3.7856e-02,  8.6641e-02,  1.2574e-01,  8.5902e-03,\n",
       "          4.8758e-03,  8.6379e-02,  1.1758e-01,  8.0005e-02, -1.9355e-02,\n",
       "         -5.4282e-02,  5.9266e-02,  3.1073e-02,  5.5454e-02, -3.1782e-03,\n",
       "          2.3384e-02,  1.0817e-01,  7.1551e-02,  8.7738e-02,  7.1278e-02,\n",
       "         -1.9620e-02,  1.2208e-02,  9.3049e-02, -6.1616e-03,  1.4553e-01,\n",
       "         -1.9026e-02,  1.0371e-01,  3.2627e-02,  8.3911e-02, -8.4498e-02,\n",
       "          1.2955e-01,  1.6829e-02, -1.2182e-02,  4.1645e-02,  5.1024e-02,\n",
       "          9.7597e-02,  1.7968e-02, -2.7012e-03,  4.2712e-02,  2.3777e-02,\n",
       "          3.0378e-03,  2.2113e-01, -5.4031e-02,  7.5018e-02,  7.5353e-02,\n",
       "          5.1204e-02, -2.2587e-02, -4.1794e-02,  5.2658e-02, -6.2235e-02,\n",
       "         -1.2460e-02,  9.0278e-02,  1.5691e-01,  8.7672e-02, -7.7946e-02,\n",
       "         -9.7650e-03,  7.2712e-02,  1.3737e-01,  2.3657e-01, -1.1309e-02,\n",
       "          2.4688e-01,  4.8789e-02, -4.7291e-02, -3.6198e-02,  1.1750e-01,\n",
       "          1.5493e-01,  5.2624e-02,  1.3894e-01,  1.3212e-01, -6.6335e-02,\n",
       "          1.0320e-01,  1.2369e-01, -2.8965e-02,  1.0478e-01, -1.6261e-02,\n",
       "          9.0820e-03,  3.5715e-02,  2.1971e-02, -6.9985e-02, -9.8697e-02,\n",
       "         -2.1834e-02,  1.0209e-01,  7.8766e-02,  1.0743e-02,  1.7998e-02,\n",
       "         -5.1862e-04,  3.8381e-02,  2.5830e-02,  3.4502e-03,  1.8324e-01,\n",
       "          9.2183e-02, -8.6957e-02,  1.3418e-01,  8.1667e-02,  5.6936e-02,\n",
       "          3.3622e-02,  6.9222e-03,  3.9922e-02, -3.2013e-02,  1.7405e-01,\n",
       "          3.7526e-02,  2.7721e-02,  5.9517e-02,  1.2357e-01,  2.2444e-02,\n",
       "         -4.2931e-02, -5.0631e-02,  8.4280e-02,  8.0472e-02,  8.9204e-02,\n",
       "          1.2109e-01,  1.9137e-02,  6.2992e-02,  4.8479e-02,  1.1013e-01,\n",
       "          9.7149e-03,  1.8127e-01,  4.4695e-02,  1.3503e-01,  1.5575e-01,\n",
       "          1.4520e-02, -4.3224e-02,  9.7552e-02, -6.9460e-02, -8.5560e-02,\n",
       "          1.5523e-01, -8.0532e-02,  2.2929e-02, -2.0302e-02, -1.8441e-02,\n",
       "          1.2749e-03,  7.6093e-02,  8.3131e-03,  5.6549e-02,  1.2942e-01,\n",
       "          6.7120e-02,  7.9377e-02,  7.1566e-02, -4.6942e-02,  1.2084e-02,\n",
       "          7.6777e-03,  1.7251e-02, -1.6558e-04,  4.3748e-02, -2.9040e-02,\n",
       "         -1.2465e-01, -1.6719e-04,  5.1974e-02,  6.4122e-02,  9.2641e-03,\n",
       "         -3.5908e-02, -6.2335e-02,  1.7043e-01,  1.7918e-02,  1.2572e-01,\n",
       "          1.3416e-02,  9.3592e-02,  6.1694e-02, -7.9782e-03,  1.0865e-01,\n",
       "          1.5142e-01,  3.0341e-02, -1.9313e-02,  2.1973e-02, -4.8746e-02,\n",
       "         -3.0847e-03,  1.3953e-01,  4.6566e-02,  1.1072e-02, -9.0877e-02,\n",
       "         -5.2882e-02, -2.7149e-02,  5.2713e-03,  1.8393e-02,  1.3481e-01,\n",
       "          1.3781e-01,  7.8276e-03,  7.7436e-02,  9.2474e-02, -2.6251e-02,\n",
       "          6.8115e-02,  3.0955e-02,  1.7817e-01, -2.2561e-03,  1.7058e-01,\n",
       "          9.7941e-02,  1.1404e-01,  9.6536e-02,  1.4758e-01,  1.1955e-01,\n",
       "          3.6241e-02,  6.7497e-02,  1.1445e-01,  3.9293e-02,  4.6183e-02,\n",
       "          1.3105e-01,  2.9613e-02,  1.4409e-01, -3.7551e-02, -8.0324e-02,\n",
       "          1.4644e-02,  2.5853e-02,  2.5605e-01,  5.6994e-02,  5.4336e-02,\n",
       "          1.4876e-02,  8.1536e-02,  3.9629e-02,  1.2116e-01,  1.1952e-01,\n",
       "          1.1229e-01,  2.0274e-02,  7.6826e-02, -5.5635e-02,  2.1818e-02,\n",
       "          3.9944e-02,  2.0345e-02,  1.6526e-01,  8.4724e-03,  7.2382e-02,\n",
       "          5.8370e-02,  7.8365e-02,  1.9963e-02, -1.1425e-02,  1.6239e-02,\n",
       "         -6.8294e-02,  5.4389e-02,  1.7144e-01,  1.3310e-01, -1.1980e-01,\n",
       "         -1.2064e-02,  4.3312e-02,  5.2471e-02,  2.2541e-02,  2.5586e-02,\n",
       "          6.8687e-02, -1.7727e-02,  3.9165e-02,  6.2893e-02,  3.1015e-02,\n",
       "          1.1342e-01,  6.5385e-02,  3.1380e-01, -1.0258e-01, -2.7152e-02,\n",
       "         -5.8023e-02,  4.2311e-02,  2.6602e-03, -7.7483e-02,  5.8732e-02,\n",
       "         -2.2638e-02,  3.5697e-02,  1.4374e-01,  3.7252e-02,  1.4926e-01,\n",
       "         -5.9747e-02,  4.2370e-02,  4.3375e-02,  2.1452e-02,  2.0807e-02,\n",
       "          1.3168e-01,  6.3375e-02,  2.1401e-02,  2.5947e-03, -2.6960e-02,\n",
       "          7.0480e-02,  5.0961e-02,  1.4263e-01,  7.5775e-02, -6.1294e-02,\n",
       "          6.3416e-02, -2.1921e-02,  2.8995e-02,  3.8005e-02,  5.9252e-03,\n",
       "         -9.9009e-03, -8.3539e-02,  9.4493e-02,  6.7770e-02,  4.3187e-03,\n",
       "          1.3025e-01,  5.5415e-02,  8.5877e-02, -5.2531e-02,  4.5225e-02,\n",
       "          9.3921e-03, -6.1202e-02,  2.1145e-02,  4.6348e-03, -1.1502e-01,\n",
       "         -5.2004e-03, -3.8010e-03,  2.7670e-02,  4.0738e-02,  4.0221e-02,\n",
       "          3.0238e-02, -1.3658e-01,  8.9428e-02, -1.6602e-02, -1.0682e-02,\n",
       "          2.7138e-04,  1.2102e-01,  5.2125e-02,  2.0127e-02, -5.1074e-02,\n",
       "          5.0396e-03,  4.0030e-02,  9.1941e-02,  7.7319e-02,  4.2976e-02,\n",
       "          5.8500e-02, -1.8988e-02,  9.0999e-02, -1.0443e-04, -6.6878e-02,\n",
       "          1.5610e-01,  3.8679e-03,  6.4393e-02,  9.4988e-03,  4.6048e-02,\n",
       "          7.5769e-02,  1.4332e-01,  7.4384e-02,  5.2614e-02,  8.0766e-02,\n",
       "          1.6901e-01, -4.4692e-02,  6.4304e-02,  6.0147e-02, -5.3217e-02,\n",
       "          1.5932e-02,  8.7048e-02,  4.3584e-02, -2.6030e-03, -4.5867e-02,\n",
       "          1.0927e-02,  4.1174e-02,  3.0448e-02,  1.9636e-01,  7.0690e-02,\n",
       "          8.1389e-02,  6.2505e-02,  9.1719e-02,  5.6644e-02,  1.0939e-01,\n",
       "         -6.4102e-02,  1.1195e-01, -1.1110e-02, -2.2243e-02,  3.5486e-02,\n",
       "          1.3229e-02,  7.9870e-02,  1.0634e-01, -2.4522e-02, -8.0172e-02,\n",
       "         -2.1792e-03,  6.2109e-02, -1.4701e-02, -6.4222e-02, -1.2836e-02,\n",
       "          1.4574e-01,  5.5531e-02, -6.4197e-02,  6.8887e-02,  5.9241e-02,\n",
       "         -8.8132e-02, -2.7086e-02,  2.5868e-02,  1.1311e-01,  2.4313e-02,\n",
       "          2.7736e-02,  1.0640e-01, -3.7036e-02,  1.9758e-01, -7.3447e-02,\n",
       "         -1.4989e-02,  1.3148e-01,  2.0027e-01,  6.1726e-02,  3.6995e-02,\n",
       "          4.3238e-02, -8.0165e-03,  1.8474e-02,  9.0816e-02,  1.9331e-02,\n",
       "         -5.0261e-02,  1.4585e-02,  2.0438e-02, -1.9797e-02,  9.8534e-02,\n",
       "         -1.3121e-03,  2.8639e-02, -3.6086e-02,  1.3378e-01, -1.3495e-02]])"
      ]
     },
     "execution_count": 21,
     "metadata": {},
     "output_type": "execute_result"
    }
   ],
   "source": [
    "y_sample[0,:,:]"
   ]
  },
  {
   "cell_type": "code",
   "execution_count": 23,
   "id": "93267e4f",
   "metadata": {},
   "outputs": [
    {
     "data": {
      "text/plain": [
       "tensor([0.0000, 0.0000, 0.0000, 0.0000, 0.0000, 0.0000, 0.0000, 0.0000, 0.0000,\n",
       "        0.0000, 0.0000, 0.0000, 0.0000, 0.0000, 0.0000, 0.0000, 0.0000, 0.0000,\n",
       "        0.0000, 0.0000, 0.0000, 0.0000, 0.0000, 0.0000, 0.0000, 0.0000, 0.0000,\n",
       "        0.0000, 0.0000, 0.0000, 0.0000, 0.0000, 0.0000, 0.0000, 0.0000, 0.0000,\n",
       "        0.0000, 0.0000, 0.0000, 0.0000, 0.0000, 0.0000, 0.0010, 0.0000, 0.0010,\n",
       "        0.0000, 0.0000, 0.0000, 0.0000, 0.0000, 0.0000, 0.0000, 0.0000, 0.0000,\n",
       "        0.0000, 0.0000, 0.0010, 0.0000, 0.0000, 0.0000, 0.0000, 0.0000, 0.0000,\n",
       "        0.0000, 0.0000, 0.0000, 0.0000, 0.0000, 0.0000, 0.0000, 0.0000, 0.0010,\n",
       "        0.0000, 0.0010, 0.0000, 0.0000, 0.0000, 0.0010, 0.0020, 0.0030, 0.0020,\n",
       "        0.0000, 0.0000, 0.0000, 0.0000, 0.0020, 0.0020, 0.0000, 0.0010, 0.0000,\n",
       "        0.0000, 0.0000, 0.0010, 0.0020, 0.0040, 0.0060, 0.0010, 0.0030, 0.0020,\n",
       "        0.0010, 0.0010, 0.0030, 0.0010, 0.0020, 0.0030, 0.0020, 0.0040, 0.0020,\n",
       "        0.0010, 0.0040, 0.0030, 0.0000, 0.0060, 0.0060, 0.0080, 0.0030, 0.0040,\n",
       "        0.0070, 0.0010, 0.0020, 0.0060, 0.0040, 0.0140, 0.0040, 0.0110, 0.0100,\n",
       "        0.0070, 0.0110, 0.0080, 0.0150, 0.0120, 0.0150, 0.0180, 0.0100, 0.0150,\n",
       "        0.0130, 0.0090, 0.0150, 0.0200, 0.0170, 0.0250, 0.0260, 0.0210, 0.0240,\n",
       "        0.0280, 0.0200, 0.0280, 0.0250, 0.0250, 0.0330, 0.0170, 0.0300, 0.0340,\n",
       "        0.0410, 0.0330, 0.0320, 0.0380, 0.0310, 0.0570, 0.0340, 0.0530, 0.0350,\n",
       "        0.0510, 0.0580, 0.0420, 0.0500, 0.0540, 0.0640, 0.0630, 0.0720, 0.0680,\n",
       "        0.0820, 0.0760, 0.0600, 0.0700, 0.0680, 0.0710, 0.0750, 0.0980, 0.0900,\n",
       "        0.0870, 0.0960, 0.1030, 0.0920, 0.1050, 0.1020, 0.1200, 0.1230, 0.1020,\n",
       "        0.1360, 0.1150, 0.1440, 0.1280, 0.1280, 0.1330, 0.1510, 0.1540, 0.1620,\n",
       "        0.1690, 0.1640, 0.1370, 0.1890, 0.1940, 0.1580, 0.1730, 0.1990, 0.1990,\n",
       "        0.2020, 0.2120, 0.2180, 0.2310, 0.2370, 0.2400, 0.2280, 0.2300, 0.2500,\n",
       "        0.2670, 0.2310, 0.2600, 0.2900, 0.2990, 0.2900, 0.2800, 0.3120, 0.3030,\n",
       "        0.3140, 0.3170, 0.3300, 0.3550, 0.3090, 0.3230, 0.3440, 0.3650, 0.3500,\n",
       "        0.3710, 0.3880, 0.3760, 0.3950, 0.4260, 0.4030, 0.4220, 0.4150, 0.4220,\n",
       "        0.4490, 0.4370, 0.4720, 0.4490, 0.4760, 0.4530, 0.4780, 0.5020, 0.5220,\n",
       "        0.5290, 0.4890, 0.5100, 0.5380, 0.5260, 0.5600, 0.5830, 0.5820, 0.5240,\n",
       "        0.6000, 0.5840, 0.5880, 0.5750, 0.6140, 0.5930, 0.6230, 0.6470, 0.6210,\n",
       "        0.6390, 0.6680, 0.6750, 0.6580, 0.6620, 0.6900, 0.6750, 0.6880, 0.7230,\n",
       "        0.7000, 0.7140, 0.7390, 0.7100, 0.7200, 0.7370, 0.7280, 0.7530, 0.7610,\n",
       "        0.7450, 0.7540, 0.7570, 0.7580, 0.8060, 0.8180, 0.7980, 0.7970, 0.8020,\n",
       "        0.8120, 0.8080, 0.8050, 0.8220, 0.8210, 0.8520, 0.8300, 0.8450, 0.8410,\n",
       "        0.8410, 0.8710, 0.8590, 0.8750, 0.8730, 0.8770, 0.8660, 0.8660, 0.8730,\n",
       "        0.8890, 0.9060, 0.9010, 0.9020, 0.8970, 0.9010, 0.9120, 0.9100, 0.9170,\n",
       "        0.9210, 0.9190, 0.9190, 0.9260, 0.9230, 0.9360, 0.9330, 0.9490, 0.9370,\n",
       "        0.9510, 0.9460, 0.9400, 0.9520, 0.9410, 0.9420, 0.9600, 0.9490, 0.9650,\n",
       "        0.9590, 0.9570, 0.9580, 0.9590, 0.9620, 0.9580, 0.9700, 0.9700, 0.9690,\n",
       "        0.9820, 0.9690, 0.9710, 0.9720, 0.9700, 0.9810, 0.9720, 0.9720, 0.9770,\n",
       "        0.9670, 0.9780, 0.9800, 0.9770, 0.9760, 0.9830, 0.9850, 0.9800, 0.9800,\n",
       "        0.9820, 0.9740, 0.9780, 0.9820, 0.9840, 0.9840, 0.9760, 0.9820, 0.9800,\n",
       "        0.9810, 0.9760, 0.9790, 0.9820, 0.9790, 0.9820, 0.9810, 0.9760, 0.9750,\n",
       "        0.9780, 0.9720, 0.9830, 0.9750, 0.9740, 0.9720, 0.9790, 0.9820, 0.9760,\n",
       "        0.9740, 0.9650, 0.9670, 0.9690, 0.9710, 0.9720, 0.9610, 0.9660, 0.9660,\n",
       "        0.9640, 0.9680, 0.9600, 0.9580, 0.9570, 0.9430, 0.9380, 0.9500, 0.9470,\n",
       "        0.9510, 0.9470, 0.9400, 0.9490, 0.9450, 0.9430, 0.9270, 0.9260, 0.9380,\n",
       "        0.9350, 0.9380, 0.9300, 0.9190, 0.9360, 0.9050, 0.9230, 0.9250, 0.9000,\n",
       "        0.9090, 0.9000, 0.8950, 0.8940, 0.8890, 0.8740, 0.8910, 0.8880, 0.8670,\n",
       "        0.8840, 0.8730, 0.8450, 0.8610, 0.8580, 0.8730, 0.8460, 0.8520, 0.8410,\n",
       "        0.8270, 0.8310, 0.8130, 0.8310, 0.8340, 0.8180, 0.8060, 0.8110, 0.8070,\n",
       "        0.7980, 0.7960, 0.7850, 0.7850, 0.7810, 0.7680, 0.7630, 0.7380, 0.7390,\n",
       "        0.7470, 0.7260, 0.7310, 0.6890, 0.7220, 0.7330, 0.6930, 0.6800, 0.7080,\n",
       "        0.6960, 0.6880, 0.6860, 0.6720, 0.6620, 0.6590, 0.6500, 0.6680, 0.6550,\n",
       "        0.6570, 0.6300, 0.6120, 0.6250, 0.5940, 0.5730, 0.5960, 0.5610, 0.5830,\n",
       "        0.5740, 0.5660, 0.5390, 0.5360, 0.5120, 0.5210, 0.4950, 0.5150, 0.5060,\n",
       "        0.4890, 0.4860, 0.4740, 0.4730, 0.4800, 0.4350, 0.4400, 0.4270, 0.4330,\n",
       "        0.4360, 0.4310, 0.3990, 0.4420, 0.3910, 0.3870, 0.4030, 0.3780, 0.3630,\n",
       "        0.3750, 0.3710, 0.3400, 0.3210, 0.3140, 0.3070, 0.3340, 0.2960, 0.2990,\n",
       "        0.2810, 0.2920, 0.2620, 0.2600, 0.2690, 0.2570, 0.2430, 0.2490, 0.2490,\n",
       "        0.2510, 0.2140, 0.1950, 0.2020, 0.1980, 0.2160, 0.1890, 0.1810, 0.1720,\n",
       "        0.1920, 0.1550, 0.1750, 0.1690, 0.1780, 0.1690, 0.1700, 0.1420, 0.1440,\n",
       "        0.1340, 0.1380, 0.1460, 0.1210, 0.1450, 0.1180, 0.1140, 0.1050, 0.1070,\n",
       "        0.1150, 0.1270, 0.1010, 0.1050, 0.0920, 0.1080, 0.0910, 0.0970, 0.0880,\n",
       "        0.0850, 0.0830, 0.0770, 0.0740, 0.0670, 0.0760, 0.0850, 0.0830, 0.0700,\n",
       "        0.0530, 0.0730, 0.0660, 0.0620, 0.0530, 0.0670, 0.0640, 0.0700, 0.0610,\n",
       "        0.0680, 0.0500, 0.0510, 0.0520, 0.0450, 0.0590, 0.0650, 0.0590, 0.0500,\n",
       "        0.0690, 0.0570, 0.0610, 0.0610, 0.0390, 0.0500, 0.0620, 0.0520, 0.0530,\n",
       "        0.0570, 0.0570, 0.0700, 0.0550, 0.0630, 0.0500, 0.0680, 0.0640, 0.0680,\n",
       "        0.0760, 0.0660, 0.0860, 0.0700, 0.0710, 0.0720, 0.0710, 0.0680, 0.0720,\n",
       "        0.0830, 0.0780, 0.0780, 0.0750, 0.0780, 0.0730, 0.0800, 0.0680, 0.0810,\n",
       "        0.0880, 0.0910, 0.0800, 0.0910, 0.0860, 0.1000, 0.0820, 0.0940, 0.0930,\n",
       "        0.1000, 0.0910, 0.1040, 0.1160, 0.1050, 0.1150, 0.1310, 0.1180, 0.1200,\n",
       "        0.1110, 0.1220, 0.1320, 0.1100, 0.1100, 0.1200, 0.1390, 0.1310, 0.1500,\n",
       "        0.1430, 0.1360, 0.1490, 0.1500, 0.1440, 0.1520, 0.1550, 0.1450, 0.1550,\n",
       "        0.1510, 0.1490, 0.1510, 0.1630, 0.1650, 0.1810, 0.2000, 0.1680, 0.1750,\n",
       "        0.1880, 0.1930, 0.1980, 0.1790, 0.2010, 0.2000, 0.1840, 0.2000, 0.2010,\n",
       "        0.2000, 0.2320, 0.2110, 0.2510, 0.2090, 0.2470, 0.2260, 0.2480, 0.2110,\n",
       "        0.2250, 0.2560, 0.2320, 0.2390, 0.2690, 0.2750, 0.2570, 0.2650, 0.2600,\n",
       "        0.2680, 0.2690, 0.2590, 0.2530, 0.2990, 0.2850, 0.2990, 0.3100, 0.2750,\n",
       "        0.3050, 0.3240, 0.2900, 0.3080, 0.3270, 0.3280, 0.3530, 0.3120, 0.3560,\n",
       "        0.3210, 0.3570, 0.3340, 0.3280, 0.3820, 0.3290, 0.3730, 0.3940, 0.3760,\n",
       "        0.3730, 0.3500, 0.3970, 0.3710, 0.4240, 0.3790, 0.3930, 0.4130, 0.4110,\n",
       "        0.3900, 0.3850, 0.4230, 0.4050, 0.4070, 0.4350, 0.4570, 0.4230, 0.4410,\n",
       "        0.4470, 0.4540, 0.4750, 0.4690, 0.4560, 0.4470, 0.4480, 0.4580, 0.4860,\n",
       "        0.4990, 0.4820, 0.4570, 0.4950, 0.5030, 0.4930, 0.4970, 0.4840, 0.5020,\n",
       "        0.5260, 0.5190, 0.5100, 0.5140, 0.5120, 0.5490, 0.5470, 0.5440, 0.5300,\n",
       "        0.5450, 0.5450, 0.5790, 0.5670, 0.5810, 0.5760, 0.5770, 0.5960, 0.5880,\n",
       "        0.5750, 0.5620, 0.6010, 0.5960, 0.6030, 0.5820, 0.6130, 0.6230, 0.6250,\n",
       "        0.6110, 0.5980, 0.6540, 0.6040, 0.6490, 0.6280, 0.6580, 0.6320, 0.6570,\n",
       "        0.6680, 0.6630, 0.6430, 0.6680, 0.6720, 0.6620, 0.6860, 0.6790, 0.7050,\n",
       "        0.6720, 0.6940, 0.6860, 0.6810, 0.6880, 0.7060, 0.7120, 0.7020, 0.7120,\n",
       "        0.7100, 0.7040, 0.7120, 0.7120, 0.7160, 0.7280, 0.7410, 0.7440, 0.7400,\n",
       "        0.7360, 0.7780, 0.7560, 0.7770, 0.7570, 0.7680, 0.7510, 0.7540, 0.7930,\n",
       "        0.7560, 0.7590, 0.7800, 0.7830, 0.7870, 0.7730, 0.8010, 0.7720, 0.8030,\n",
       "        0.8070, 0.7880, 0.8150, 0.8280, 0.8010, 0.8330, 0.7960, 0.8190, 0.8280,\n",
       "        0.8310, 0.8270, 0.8240, 0.8130, 0.8550, 0.8260, 0.8200, 0.8280, 0.8490,\n",
       "        0.8470, 0.8450, 0.8590, 0.8450, 0.8380, 0.8550, 0.8580, 0.8920, 0.8760,\n",
       "        0.8520, 0.8620, 0.8710, 0.8780, 0.8620, 0.8770, 0.8720, 0.8940, 0.8700,\n",
       "        0.8730, 0.8940, 0.8710, 0.8840, 0.8940, 0.8940, 0.9030, 0.8850, 0.8790,\n",
       "        0.9120, 0.9160, 0.9040, 0.9140, 0.9100, 0.9080, 0.9060, 0.9110, 0.9250,\n",
       "        0.9130, 0.9130, 0.9160, 0.9070, 0.9340, 0.9280, 0.9160, 0.9130, 0.9320,\n",
       "        0.9280, 0.9200, 0.9430, 0.9230, 0.9280, 0.9220, 0.9220, 0.9410, 0.9440,\n",
       "        0.9310, 0.9370, 0.9450, 0.9410, 0.9600, 0.9440, 0.9440, 0.9490, 0.9440,\n",
       "        0.9510, 0.9400, 0.9430, 0.9590, 0.9500, 0.9490, 0.9430, 0.9650, 0.9550,\n",
       "        0.9520, 0.9520, 0.9580, 0.9620, 0.9540, 0.9590, 0.9660, 0.9610, 0.9580,\n",
       "        0.9590, 0.9600, 0.9620, 0.9720, 0.9670, 0.9760, 0.9680, 0.9720, 0.9630,\n",
       "        0.9630, 0.9800, 0.9710, 0.9740, 0.9730, 0.9670, 0.9780, 0.9810, 0.9850,\n",
       "        0.9710, 0.9830, 0.9780, 0.9780, 0.9810, 0.9860, 0.9870, 0.9840, 0.9850,\n",
       "        0.9760, 0.9800, 0.9850, 0.9930, 0.9800, 0.9880, 0.9830, 0.9840, 0.9820,\n",
       "        0.9860, 0.9890, 0.9790, 0.9880, 0.9880, 0.9890, 0.9830, 0.9850, 0.9870,\n",
       "        0.9880])"
      ]
     },
     "execution_count": 23,
     "metadata": {},
     "output_type": "execute_result"
    }
   ],
   "source": [
    "y_prob = (y_sample > 0.5).float().mean(dim=2).squeeze()\n",
    "y_prob"
   ]
  },
  {
   "cell_type": "code",
   "execution_count": 24,
   "id": "68ce1cfc",
   "metadata": {},
   "outputs": [
    {
     "data": {
      "image/png": "[encoded data removed]",
      "text/plain": [
       "<Figure size 400x100 with 1 Axes>"
      ]
     },
     "metadata": {},
     "output_type": "display_data"
    }
   ],
   "source": [
    "\n",
    "plt.scatter(x.cpu(), y.cpu(), label=\"training data\", s=1, color=\"silver\")\n",
    "plt.plot(x_eval.cpu(), y_eval_mean.cpu(), label=\"true mean\", color=\"C3\")\n",
    "plt.scatter(x_eval.cpu(), y_prob.cpu(), label=\"predictions\", s=1)\n",
    "plt.ylim(-0.1, 1.1)\n",
    "plt.legend(loc=\"center left\", bbox_to_anchor=(1, 0.5)); plt.show()"
   ]
  },
  {
   "cell_type": "code",
   "execution_count": 32,
   "id": "7194cb12",
   "metadata": {},
   "outputs": [
    {
     "data": {
      "text/plain": [
       "tensor([[1.],\n",
       "        [1.],\n",
       "        [0.],\n",
       "        ...,\n",
       "        [1.],\n",
       "        [0.],\n",
       "        [1.]])"
      ]
     },
     "execution_count": 32,
     "metadata": {},
     "output_type": "execute_result"
    }
   ],
   "source": [
    "y"
   ]
  },
  {
   "cell_type": "code",
   "execution_count": 33,
   "id": "972f7b5d",
   "metadata": {},
   "outputs": [
    {
     "name": "stdout",
     "output_type": "stream",
     "text": [
      "tensor([[0, 1],\n",
      "        [0, 1],\n",
      "        [1, 0],\n",
      "        ...,\n",
      "        [0, 1],\n",
      "        [1, 0],\n",
      "        [0, 1]])\n"
     ]
    }
   ],
   "source": [
    "y_onehot = torch.nn.functional.one_hot(y.long().squeeze(), num_classes=2)\n",
    "print(y_onehot)"
   ]
  },
  {
   "cell_type": "code",
   "execution_count": 34,
   "id": "2587d1b4",
   "metadata": {},
   "outputs": [
    {
     "name": "stdout",
     "output_type": "stream",
     "text": [
      "Running on CPU.\n",
      "\n",
      "Data is standardized for training only; the printed training losses are on the standardized scale. \n",
      "However during evaluation, the predictions, evaluation metrics, and plots will be on the original scale.\n",
      "\n",
      "Training based on mini-batch gradient descent with a batch size of 1000.\n",
      "[Epoch 1 (0%), batch 9] energy-loss: 0.3695,  E(|Y-Yhat|): 0.4883,  E(|Yhat-Yhat'|): 0.2375\n",
      "[Epoch 100 (20%), batch 9] energy-loss: 0.2034,  E(|Y-Yhat|): 0.4159,  E(|Yhat-Yhat'|): 0.4250\n",
      "[Epoch 200 (40%), batch 9] energy-loss: 0.2089,  E(|Y-Yhat|): 0.4275,  E(|Yhat-Yhat'|): 0.4373\n",
      "[Epoch 300 (60%), batch 9] energy-loss: 0.1046,  E(|Y-Yhat|): 0.2281,  E(|Yhat-Yhat'|): 0.2471\n",
      "[Epoch 400 (80%), batch 9] energy-loss: 0.0887,  E(|Y-Yhat|): 0.1884,  E(|Yhat-Yhat'|): 0.1993\n",
      "[Epoch 500 (100%), batch 9] energy-loss: 0.0877,  E(|Y-Yhat|): 0.1788,  E(|Yhat-Yhat'|): 0.1821\n",
      "\n",
      "Training loss on the original (non-standardized) scale:\n",
      "\tEnergy-loss: 0.0847,  E(|Y-Yhat|): 0.1760,  E(|Yhat-Yhat'|): 0.1827\n",
      "\n",
      "Prediction-loss E(|Y-Yhat|) and variance-loss E(|Yhat-Yhat'|) should ideally be equally large\n",
      "-- consider training for more epochs or adjusting hyperparameters if there is a mismatch \n"
     ]
    }
   ],
   "source": [
    "# Fit an engression model\n",
    "engressor = engression(x, y, lr=0.005, num_epochs=500, batch_size=1000, device=device, classification=True)"
   ]
  },
  {
   "cell_type": "code",
   "execution_count": 35,
   "id": "d7eb577e",
   "metadata": {},
   "outputs": [
    {
     "name": "stdout",
     "output_type": "stream",
     "text": [
      "Engression model with\n",
      "\t number of layers: 2\n",
      "\t hidden dimensions: 100\n",
      "\t noise dimensions: 100\n",
      "\t residual blocks: False\n",
      "\t number of epochs: 500\n",
      "\t batch size: 1000\n",
      "\t learning rate: 0.005\n",
      "\t standardization: True\n",
      "\t training mode: False\n",
      "\t device: cpu\n",
      "\n",
      "Training loss (original scale):\n",
      "\t energy-loss: 0.08, \n",
      "\tE(|Y-Yhat|): 0.18, \n",
      "\tE(|Yhat-Yhat'|): 0.18\n"
     ]
    }
   ],
   "source": [
    "# Summarize model information\n",
    "engressor.summary()"
   ]
  },
  {
   "cell_type": "code",
   "execution_count": 36,
   "id": "5d62250f",
   "metadata": {},
   "outputs": [
    {
     "name": "stdout",
     "output_type": "stream",
     "text": [
      "L2 loss: 0.0010801423341035843\n",
      "correlation between predicted and true means: 0.9970585107803345\n"
     ]
    }
   ],
   "source": [
    "# Evaluation\n",
    "print(\"L2 loss:\", engressor.eval_loss(x_eval, y_eval_mean, loss_type=\"l2\"))\n",
    "print(\"correlation between predicted and true means:\", engressor.eval_loss(x_eval, y_eval_mean, loss_type=\"cor\"))\n"
   ]
  },
  {
   "cell_type": "code",
   "execution_count": 37,
   "id": "51ac450a",
   "metadata": {},
   "outputs": [],
   "source": [
    "# Predictions\n",
    "y_pred = engressor.predict(x_eval, target=\"mean\", sample_size=1000)"
   ]
  },
  {
   "cell_type": "code",
   "execution_count": 38,
   "id": "f9a31678",
   "metadata": {},
   "outputs": [
    {
     "data": {
      "image/png": "[encoded data removed]",
      "text/plain": [
       "<Figure size 400x100 with 1 Axes>"
      ]
     },
     "metadata": {},
     "output_type": "display_data"
    }
   ],
   "source": [
    "\n",
    "plt.scatter(x.cpu(), y.cpu(), label=\"training data\", s=1, color=\"silver\")\n",
    "plt.plot(x_eval.cpu(), y_eval_mean.cpu(), label=\"true mean\", color=\"C3\")\n",
    "plt.scatter(x_eval.cpu(), y_pred.cpu(), label=\"predictions\", s=1)\n",
    "plt.ylim(-0.1, 1.1)\n",
    "plt.legend(loc=\"center left\", bbox_to_anchor=(1, 0.5)); plt.show()"
   ]
  },
  {
   "cell_type": "code",
   "execution_count": 39,
   "id": "8aa53f05",
   "metadata": {},
   "outputs": [
    {
     "name": "stdout",
     "output_type": "stream",
     "text": [
      "Running on CPU.\n",
      "\n",
      "Data is standardized for training only; the printed training losses are on the standardized scale. \n",
      "However during evaluation, the predictions, evaluation metrics, and plots will be on the original scale.\n",
      "\n",
      "Training based on mini-batch gradient descent with a batch size of 1000.\n",
      "[Epoch 1 (0%), batch 9] energy-loss: 0.4687,  E(|Y-Yhat|): 0.6760,  E(|Yhat-Yhat'|): 0.4146\n",
      "[Epoch 100 (20%), batch 9] energy-loss: 0.3022,  E(|Y-Yhat|): 0.6018,  E(|Yhat-Yhat'|): 0.5990\n",
      "[Epoch 200 (40%), batch 9] energy-loss: 0.2952,  E(|Y-Yhat|): 0.5971,  E(|Yhat-Yhat'|): 0.6038\n",
      "[Epoch 300 (60%), batch 9] energy-loss: 0.2702,  E(|Y-Yhat|): 0.5796,  E(|Yhat-Yhat'|): 0.6188\n",
      "[Epoch 400 (80%), batch 9] energy-loss: 0.1191,  E(|Y-Yhat|): 0.2640,  E(|Yhat-Yhat'|): 0.2898\n",
      "[Epoch 500 (100%), batch 9] energy-loss: 0.1199,  E(|Y-Yhat|): 0.2535,  E(|Yhat-Yhat'|): 0.2672\n",
      "\n",
      "Training loss on the original (non-standardized) scale:\n",
      "\tEnergy-loss: 0.1227,  E(|Y-Yhat|): 0.2535,  E(|Yhat-Yhat'|): 0.2617\n",
      "\n",
      "Prediction-loss E(|Y-Yhat|) and variance-loss E(|Yhat-Yhat'|) should ideally be equally large\n",
      "-- consider training for more epochs or adjusting hyperparameters if there is a mismatch \n"
     ]
    }
   ],
   "source": [
    "# Fit an engression model\n",
    "engressor = engression(x, y_onehot, lr=0.005, num_epochs=500, batch_size=1000, device=device, classification=True)"
   ]
  },
  {
   "cell_type": "code",
   "execution_count": 40,
   "id": "1fcb28f0",
   "metadata": {},
   "outputs": [],
   "source": [
    "# Predictions\n",
    "y_pred = engressor.predict(x_eval, target=\"mean\", sample_size=1000)"
   ]
  },
  {
   "cell_type": "code",
   "execution_count": 45,
   "id": "f00841b5",
   "metadata": {},
   "outputs": [
    {
     "data": {
      "text/plain": [
       "tensor([8.6677e-09, 1.3962e-08, 2.0567e-08, 6.8695e-11, 1.3456e-09, 6.0308e-09,\n",
       "        5.3258e-09, 1.0441e-08, 2.8595e-08, 3.1894e-08, 2.1549e-06, 3.7519e-08,\n",
       "        3.6483e-07, 1.2568e-07, 9.0917e-08, 9.3230e-07, 3.8068e-08, 2.8005e-07,\n",
       "        2.3896e-08, 4.4685e-09, 7.4316e-09, 9.9361e-08, 1.5309e-05, 1.5397e-08,\n",
       "        2.3050e-08, 4.0166e-07, 2.1482e-08, 2.5539e-08, 2.1236e-08, 1.0808e-07,\n",
       "        7.0218e-08, 1.2853e-06, 8.4142e-07, 2.4273e-05, 1.2998e-04, 3.7094e-07,\n",
       "        6.1561e-06, 2.2850e-06, 3.2457e-07, 4.9874e-06, 2.0572e-06, 1.8138e-06,\n",
       "        8.0708e-07, 4.3284e-05, 7.2411e-06, 9.0558e-07, 3.8075e-05, 9.3237e-05,\n",
       "        7.4184e-06, 1.8771e-06, 4.5012e-05, 7.7282e-07, 1.3909e-04, 5.5849e-05,\n",
       "        9.0586e-06, 3.8647e-05, 1.6045e-06, 8.5210e-04, 7.6194e-06, 5.3603e-06,\n",
       "        2.0521e-05, 1.5165e-05, 5.6068e-04, 6.9072e-04, 1.9140e-05, 3.2369e-04,\n",
       "        3.0782e-06, 4.2693e-04, 4.8640e-05, 4.6159e-04, 6.4973e-04, 2.9999e-05,\n",
       "        9.2586e-04, 7.7183e-04, 7.9458e-05, 3.4606e-05, 6.5254e-05, 4.0220e-05,\n",
       "        8.4231e-05, 2.7992e-05, 8.6325e-06, 1.7756e-03, 1.1788e-03, 1.8562e-03,\n",
       "        8.1173e-04, 1.5325e-03, 5.0775e-04, 2.3101e-03, 2.4842e-03, 1.7112e-03,\n",
       "        9.0912e-04, 1.2665e-04, 2.8678e-03, 1.6239e-03, 9.3858e-04, 3.3797e-03,\n",
       "        2.7994e-04, 2.1137e-03, 4.0868e-03, 1.3147e-03, 1.0799e-03, 1.6881e-03,\n",
       "        3.0917e-03, 1.5370e-03, 1.5102e-03, 3.7559e-03, 4.2804e-03, 3.4388e-03,\n",
       "        1.6291e-03, 2.7854e-03, 3.0891e-03, 3.2954e-03, 3.1690e-03, 3.9415e-03,\n",
       "        6.3966e-03, 1.7645e-03, 6.5751e-03, 2.7910e-03, 6.5393e-03, 1.0320e-02,\n",
       "        8.7727e-03, 9.7859e-03, 4.9163e-03, 7.0496e-03, 8.1156e-03, 1.0794e-02,\n",
       "        6.7226e-03, 8.0540e-03, 7.6682e-03, 1.0579e-02, 9.8885e-03, 1.6518e-02,\n",
       "        1.0712e-02, 1.4363e-02, 9.5666e-03, 1.5266e-02, 1.4844e-02, 2.0097e-02,\n",
       "        1.1326e-02, 1.7322e-02, 1.8652e-02, 1.8407e-02, 1.8006e-02, 2.5537e-02,\n",
       "        2.3205e-02, 1.9705e-02, 2.1121e-02, 2.3752e-02, 2.7597e-02, 2.2595e-02,\n",
       "        2.1424e-02, 3.0895e-02, 2.5984e-02, 3.5248e-02, 3.9526e-02, 4.7018e-02,\n",
       "        4.1759e-02, 4.1699e-02, 4.3668e-02, 4.1038e-02, 4.5364e-02, 4.5042e-02,\n",
       "        5.1695e-02, 4.8305e-02, 5.1722e-02, 5.6066e-02, 5.2699e-02, 5.8307e-02,\n",
       "        6.0025e-02, 6.1126e-02, 7.1427e-02, 5.7275e-02, 6.4670e-02, 7.0930e-02,\n",
       "        6.9015e-02, 7.7345e-02, 6.6656e-02, 7.1015e-02, 8.8804e-02, 9.1188e-02,\n",
       "        8.3898e-02, 9.2810e-02, 9.0326e-02, 9.7275e-02, 9.7712e-02, 1.0278e-01,\n",
       "        1.0035e-01, 1.3257e-01, 1.1278e-01, 1.2014e-01, 1.1609e-01, 1.3610e-01,\n",
       "        1.2950e-01, 1.3002e-01, 1.4149e-01, 1.3730e-01, 1.4223e-01, 1.4807e-01,\n",
       "        1.6474e-01, 1.5817e-01, 1.7188e-01, 1.6191e-01, 1.8971e-01, 1.8287e-01,\n",
       "        1.8521e-01, 1.9208e-01, 1.6361e-01, 2.1497e-01, 1.9644e-01, 2.1379e-01,\n",
       "        2.1589e-01, 2.1191e-01, 2.4125e-01, 2.3512e-01, 2.5236e-01, 2.3092e-01,\n",
       "        2.5370e-01, 2.6157e-01, 2.8458e-01, 2.7795e-01, 2.9381e-01, 2.9033e-01,\n",
       "        2.9996e-01, 2.9387e-01, 2.7611e-01, 3.3624e-01, 3.0352e-01, 3.0433e-01,\n",
       "        2.9085e-01, 3.1689e-01, 3.2683e-01, 3.3375e-01, 3.4013e-01, 3.7649e-01,\n",
       "        3.4208e-01, 3.7361e-01, 3.8681e-01, 3.8535e-01, 3.7857e-01, 4.0963e-01,\n",
       "        4.0480e-01, 4.0463e-01, 4.4529e-01, 4.4927e-01, 4.3648e-01, 4.5182e-01,\n",
       "        4.7403e-01, 4.6104e-01, 4.6094e-01, 4.9567e-01, 4.7245e-01, 5.0394e-01,\n",
       "        4.9669e-01, 4.9547e-01, 5.1372e-01, 5.3323e-01, 5.3150e-01, 5.3359e-01,\n",
       "        5.4857e-01, 5.3999e-01, 5.6739e-01, 5.7297e-01, 5.6783e-01, 5.8435e-01,\n",
       "        5.6725e-01, 5.9285e-01, 5.9808e-01, 6.0326e-01, 6.2099e-01, 6.2846e-01,\n",
       "        6.4451e-01, 6.5002e-01, 6.4990e-01, 6.8838e-01, 6.5049e-01, 6.5719e-01,\n",
       "        6.6372e-01, 6.8744e-01, 6.7598e-01, 7.0674e-01, 7.0818e-01, 7.1181e-01,\n",
       "        7.0931e-01, 7.2223e-01, 7.3813e-01, 7.3476e-01, 7.3214e-01, 7.4950e-01,\n",
       "        7.3551e-01, 7.5502e-01, 7.7919e-01, 7.6427e-01, 7.7794e-01, 7.7154e-01,\n",
       "        7.8792e-01, 7.9338e-01, 7.8986e-01, 8.0470e-01, 8.0346e-01, 7.9989e-01,\n",
       "        8.2071e-01, 8.2870e-01, 8.2288e-01, 8.2115e-01, 8.3744e-01, 8.3227e-01,\n",
       "        8.4518e-01, 8.4276e-01, 8.4417e-01, 8.5832e-01, 8.5880e-01, 8.7095e-01,\n",
       "        8.7079e-01, 8.7614e-01, 8.6159e-01, 8.7433e-01, 8.8377e-01, 8.9872e-01,\n",
       "        8.9740e-01, 8.9580e-01, 9.0879e-01, 9.0583e-01, 9.0640e-01, 8.9941e-01,\n",
       "        9.0252e-01, 9.1616e-01, 9.2315e-01, 9.2751e-01, 9.1280e-01, 9.1261e-01,\n",
       "        9.3688e-01, 9.3374e-01, 9.2665e-01, 9.3131e-01, 9.4051e-01, 9.3175e-01,\n",
       "        9.5066e-01, 9.5225e-01, 9.4534e-01, 9.4790e-01, 9.5091e-01, 9.4827e-01,\n",
       "        9.5946e-01, 9.4585e-01, 9.5453e-01, 9.5506e-01, 9.5247e-01, 9.5799e-01,\n",
       "        9.5831e-01, 9.7056e-01, 9.7145e-01, 9.7580e-01, 9.6901e-01, 9.7027e-01,\n",
       "        9.5940e-01, 9.7043e-01, 9.6512e-01, 9.6018e-01, 9.7534e-01, 9.7590e-01,\n",
       "        9.7348e-01, 9.7456e-01, 9.7448e-01, 9.7334e-01, 9.7124e-01, 9.7294e-01,\n",
       "        9.8139e-01, 9.7844e-01, 9.7780e-01, 9.8251e-01, 9.7314e-01, 9.7667e-01,\n",
       "        9.7318e-01, 9.8030e-01, 9.8007e-01, 9.7937e-01, 9.7903e-01, 9.8618e-01,\n",
       "        9.7330e-01, 9.7467e-01, 9.7509e-01, 9.7415e-01, 9.7570e-01, 9.7500e-01,\n",
       "        9.7994e-01, 9.7279e-01, 9.7091e-01, 9.7628e-01, 9.7848e-01, 9.7205e-01,\n",
       "        9.6669e-01, 9.6812e-01, 9.6651e-01, 9.7522e-01, 9.6540e-01, 9.6238e-01,\n",
       "        9.7441e-01, 9.6903e-01, 9.6498e-01, 9.6558e-01, 9.5981e-01, 9.6405e-01,\n",
       "        9.5401e-01, 9.5846e-01, 9.5959e-01, 9.5883e-01, 9.5776e-01, 9.5657e-01,\n",
       "        9.6043e-01, 9.4058e-01, 9.5333e-01, 9.3714e-01, 9.3658e-01, 9.3829e-01,\n",
       "        9.3631e-01, 9.3825e-01, 9.3458e-01, 9.3380e-01, 9.2858e-01, 9.2717e-01,\n",
       "        9.3301e-01, 9.3458e-01, 9.2095e-01, 9.2664e-01, 9.1369e-01, 9.0917e-01,\n",
       "        9.0655e-01, 9.0187e-01, 9.0676e-01, 9.0772e-01, 8.9862e-01, 9.0171e-01,\n",
       "        8.9088e-01, 8.8983e-01, 8.7753e-01, 8.5587e-01, 8.7425e-01, 8.8386e-01,\n",
       "        8.4861e-01, 8.5342e-01, 8.6165e-01, 8.6289e-01, 8.3827e-01, 8.3756e-01,\n",
       "        8.3409e-01, 8.4491e-01, 8.2090e-01, 8.1976e-01, 8.1257e-01, 8.1909e-01,\n",
       "        8.3054e-01, 8.1639e-01, 7.8961e-01, 7.8103e-01, 7.7439e-01, 7.6835e-01,\n",
       "        7.8158e-01, 7.9019e-01, 7.6096e-01, 7.4568e-01, 7.5210e-01, 7.4851e-01,\n",
       "        7.4271e-01, 7.4113e-01, 7.3569e-01, 7.0879e-01, 7.0109e-01, 7.0963e-01,\n",
       "        7.0884e-01, 6.7763e-01, 6.9953e-01, 6.6667e-01, 6.6444e-01, 6.7865e-01,\n",
       "        6.5053e-01, 6.8013e-01, 6.4329e-01, 6.3902e-01, 6.3123e-01, 6.0833e-01,\n",
       "        6.2120e-01, 6.1388e-01, 6.1812e-01, 5.7445e-01, 6.1126e-01, 5.7170e-01,\n",
       "        5.7825e-01, 5.6412e-01, 5.7353e-01, 5.3661e-01, 5.5928e-01, 5.4355e-01,\n",
       "        5.2024e-01, 5.3474e-01, 4.8770e-01, 4.9426e-01, 4.9419e-01, 4.9330e-01,\n",
       "        4.9705e-01, 4.6584e-01, 4.7451e-01, 4.8234e-01, 4.3890e-01, 4.3766e-01,\n",
       "        4.5686e-01, 4.2873e-01, 4.3763e-01, 4.0279e-01, 4.4210e-01, 4.1525e-01,\n",
       "        3.9826e-01, 3.8624e-01, 3.6716e-01, 3.7789e-01, 3.5111e-01, 3.5800e-01,\n",
       "        3.4199e-01, 3.5003e-01, 3.2502e-01, 3.5838e-01, 3.5278e-01, 3.2178e-01,\n",
       "        3.4165e-01, 2.8332e-01, 3.0582e-01, 3.1968e-01, 2.7226e-01, 2.8723e-01,\n",
       "        2.7384e-01, 2.7414e-01, 2.6562e-01, 2.6372e-01, 2.5248e-01, 2.5987e-01,\n",
       "        2.7007e-01, 2.3262e-01, 2.4719e-01, 2.2014e-01, 2.2843e-01, 2.0359e-01,\n",
       "        2.0792e-01, 2.2470e-01, 2.0710e-01, 2.1184e-01, 2.1791e-01, 1.9383e-01,\n",
       "        1.7930e-01, 1.8761e-01, 1.7270e-01, 1.5674e-01, 1.6066e-01, 1.5623e-01,\n",
       "        1.5351e-01, 1.5621e-01, 1.4335e-01, 1.4679e-01, 1.3471e-01, 1.4700e-01,\n",
       "        1.3049e-01, 1.2598e-01, 1.1995e-01, 1.3065e-01, 1.2125e-01, 1.1021e-01,\n",
       "        1.0905e-01, 1.2354e-01, 1.1474e-01, 9.5346e-02, 1.0421e-01, 9.1952e-02,\n",
       "        8.9638e-02, 9.3458e-02, 8.7722e-02, 9.2902e-02, 9.3900e-02, 8.2218e-02,\n",
       "        7.4616e-02, 7.1179e-02, 6.5194e-02, 6.3121e-02, 7.3216e-02, 6.5677e-02,\n",
       "        7.3438e-02, 6.5758e-02, 6.3153e-02, 5.2549e-02, 5.8623e-02, 6.0842e-02,\n",
       "        5.8918e-02, 4.9262e-02, 5.5106e-02, 6.3196e-02, 6.1892e-02, 4.5584e-02,\n",
       "        4.0996e-02, 5.7868e-02, 5.3590e-02, 4.5521e-02, 3.8832e-02, 4.5389e-02,\n",
       "        4.2869e-02, 4.6511e-02, 4.9292e-02, 4.0151e-02, 4.1398e-02, 4.1814e-02,\n",
       "        4.6988e-02, 3.8263e-02, 3.6193e-02, 4.4868e-02, 3.7988e-02, 3.8640e-02,\n",
       "        4.1295e-02, 3.6891e-02, 3.2772e-02, 3.8051e-02, 4.0280e-02, 4.9041e-02,\n",
       "        4.5046e-02, 3.4411e-02, 3.9426e-02, 3.2167e-02, 3.5161e-02, 3.4075e-02,\n",
       "        4.5800e-02, 4.8524e-02, 5.2226e-02, 4.5444e-02, 3.4260e-02, 5.4657e-02,\n",
       "        4.7218e-02, 4.5403e-02, 4.8011e-02, 5.1202e-02, 5.6551e-02, 5.9825e-02,\n",
       "        6.0404e-02, 4.5020e-02, 4.8362e-02, 6.0030e-02, 4.7375e-02, 5.4672e-02,\n",
       "        5.3076e-02, 5.7898e-02, 6.4641e-02, 7.0175e-02, 6.5344e-02, 7.0152e-02,\n",
       "        6.8488e-02, 7.7625e-02, 7.8320e-02, 7.4637e-02, 7.8576e-02, 8.1969e-02,\n",
       "        8.5558e-02, 9.0724e-02, 7.0132e-02, 8.8745e-02, 9.3955e-02, 8.7548e-02,\n",
       "        9.3387e-02, 9.0625e-02, 9.1149e-02, 1.0340e-01, 1.0335e-01, 1.0828e-01,\n",
       "        1.1404e-01, 1.2126e-01, 1.3209e-01, 1.1292e-01, 1.1732e-01, 1.1704e-01,\n",
       "        1.4137e-01, 1.4095e-01, 1.4191e-01, 1.4627e-01, 1.4871e-01, 1.5854e-01,\n",
       "        1.6651e-01, 1.7275e-01, 1.7997e-01, 1.6009e-01, 1.6510e-01, 1.5483e-01,\n",
       "        1.6608e-01, 1.7698e-01, 1.7466e-01, 1.9613e-01, 2.0972e-01, 1.7843e-01,\n",
       "        2.0760e-01, 1.7507e-01, 2.1269e-01, 2.0304e-01, 2.1696e-01, 2.1701e-01,\n",
       "        2.1672e-01, 2.0872e-01, 2.2414e-01, 2.4749e-01, 2.4553e-01, 2.4335e-01,\n",
       "        2.6572e-01, 2.7859e-01, 2.7354e-01, 2.9424e-01, 2.6744e-01, 2.7803e-01,\n",
       "        3.0168e-01, 3.0033e-01, 3.1052e-01, 2.9558e-01, 2.9804e-01, 3.0508e-01,\n",
       "        3.0722e-01, 3.5096e-01, 3.5250e-01, 3.4327e-01, 3.5500e-01, 3.8103e-01,\n",
       "        3.5743e-01, 3.6268e-01, 3.8515e-01, 3.9440e-01, 3.9803e-01, 3.7986e-01,\n",
       "        4.1407e-01, 4.1082e-01, 4.4289e-01, 4.1828e-01, 4.2884e-01, 4.4492e-01,\n",
       "        4.4979e-01, 4.5221e-01, 4.7216e-01, 4.8455e-01, 4.5890e-01, 4.5714e-01,\n",
       "        4.8520e-01, 4.6612e-01, 4.9491e-01, 4.8170e-01, 5.0403e-01, 5.2726e-01,\n",
       "        5.3123e-01, 4.8148e-01, 5.5909e-01, 5.3976e-01, 5.3628e-01, 5.4682e-01,\n",
       "        5.5303e-01, 5.7995e-01, 5.7713e-01, 5.8155e-01, 5.9984e-01, 6.1739e-01,\n",
       "        6.2115e-01, 6.1253e-01, 6.1792e-01, 5.9934e-01, 6.5266e-01, 6.4553e-01,\n",
       "        6.2705e-01, 6.5556e-01, 6.4293e-01, 6.6234e-01, 6.5125e-01, 6.4641e-01,\n",
       "        6.8020e-01, 6.5425e-01, 6.9860e-01, 7.0537e-01, 6.9440e-01, 7.1741e-01,\n",
       "        7.1478e-01, 7.1373e-01, 7.1013e-01, 7.3061e-01, 7.2700e-01, 7.2782e-01,\n",
       "        7.3754e-01, 7.4516e-01, 7.4836e-01, 7.6304e-01, 7.5297e-01, 7.7375e-01,\n",
       "        7.9705e-01, 7.7891e-01, 7.9721e-01, 8.0776e-01, 8.0525e-01, 8.3074e-01,\n",
       "        8.2442e-01, 8.1459e-01, 8.2107e-01, 8.3516e-01, 8.3997e-01, 8.0967e-01,\n",
       "        8.4931e-01, 8.3371e-01, 8.3943e-01, 8.4288e-01, 8.3042e-01, 8.5362e-01,\n",
       "        8.4976e-01, 8.6805e-01, 8.6392e-01, 8.5734e-01, 8.6058e-01, 8.7993e-01,\n",
       "        8.8356e-01, 8.8530e-01, 8.8281e-01, 8.7855e-01, 8.7829e-01, 9.0250e-01,\n",
       "        9.1294e-01, 9.0894e-01, 9.0739e-01, 9.0681e-01, 9.0868e-01, 9.1349e-01,\n",
       "        9.1349e-01, 9.1969e-01, 9.2439e-01, 9.2040e-01, 9.2876e-01, 9.2515e-01,\n",
       "        9.3659e-01, 9.3868e-01, 9.3230e-01, 9.4107e-01, 9.4100e-01, 9.4968e-01,\n",
       "        9.4661e-01, 9.4434e-01, 9.5072e-01, 9.6311e-01, 9.5605e-01, 9.5195e-01,\n",
       "        9.6486e-01, 9.5281e-01, 9.5242e-01, 9.5800e-01, 9.6705e-01, 9.5730e-01,\n",
       "        9.6818e-01, 9.6723e-01, 9.6303e-01, 9.7274e-01, 9.6291e-01, 9.5890e-01,\n",
       "        9.7166e-01, 9.7126e-01, 9.7064e-01, 9.7828e-01, 9.6983e-01, 9.7801e-01,\n",
       "        9.8220e-01, 9.8115e-01, 9.7929e-01, 9.8374e-01, 9.7989e-01, 9.8686e-01,\n",
       "        9.7855e-01, 9.8117e-01, 9.8302e-01, 9.8385e-01, 9.8227e-01, 9.8703e-01,\n",
       "        9.8657e-01, 9.8260e-01, 9.8851e-01, 9.8927e-01, 9.8451e-01, 9.8784e-01,\n",
       "        9.9051e-01, 9.9054e-01, 9.9304e-01, 9.9513e-01, 9.9528e-01, 9.9186e-01,\n",
       "        9.9102e-01, 9.9186e-01, 9.9232e-01, 9.9469e-01, 9.8996e-01, 9.9663e-01,\n",
       "        9.9686e-01, 9.9451e-01, 9.9419e-01, 9.9660e-01, 9.9586e-01, 9.9451e-01,\n",
       "        9.9619e-01, 9.9629e-01, 9.9756e-01, 9.9730e-01, 9.9056e-01, 9.9811e-01,\n",
       "        9.9700e-01, 9.9609e-01, 9.9681e-01, 9.9731e-01, 9.9831e-01, 9.9705e-01,\n",
       "        9.9678e-01, 9.9766e-01, 9.9891e-01, 9.9873e-01, 9.9740e-01, 9.9998e-01,\n",
       "        9.9917e-01, 9.9965e-01, 9.9753e-01, 9.9885e-01, 9.9864e-01, 9.9870e-01,\n",
       "        9.9817e-01, 9.9868e-01, 9.9813e-01, 9.9997e-01, 9.9921e-01, 9.9993e-01,\n",
       "        9.9872e-01, 9.9974e-01, 9.9972e-01, 9.9996e-01, 9.9992e-01, 9.9802e-01,\n",
       "        9.9918e-01, 9.9990e-01, 1.0000e+00, 9.9984e-01, 9.9911e-01, 9.9984e-01,\n",
       "        9.9994e-01, 1.0000e+00, 9.9999e-01, 9.9992e-01, 1.0000e+00, 1.0000e+00,\n",
       "        9.9934e-01, 9.9991e-01, 1.0000e+00, 9.9907e-01, 9.9971e-01, 9.9908e-01,\n",
       "        1.0000e+00, 1.0000e+00, 1.0000e+00, 9.9989e-01, 1.0000e+00, 9.9918e-01,\n",
       "        9.9950e-01, 1.0000e+00, 9.9999e-01, 1.0000e+00, 9.9998e-01, 1.0000e+00,\n",
       "        9.9905e-01, 1.0000e+00, 1.0000e+00, 9.9902e-01, 9.9899e-01, 1.0000e+00,\n",
       "        1.0000e+00, 1.0000e+00, 1.0000e+00, 1.0000e+00, 1.0000e+00, 1.0000e+00,\n",
       "        1.0000e+00, 1.0000e+00, 1.0000e+00, 1.0000e+00, 1.0000e+00, 1.0000e+00,\n",
       "        1.0000e+00, 1.0000e+00, 1.0000e+00, 1.0000e+00, 1.0000e+00, 1.0000e+00,\n",
       "        1.0000e+00, 1.0000e+00, 1.0000e+00, 1.0000e+00, 1.0000e+00, 1.0000e+00,\n",
       "        1.0000e+00, 1.0000e+00, 1.0000e+00, 1.0000e+00, 1.0000e+00, 1.0000e+00,\n",
       "        1.0000e+00, 1.0000e+00, 1.0000e+00, 1.0000e+00])"
      ]
     },
     "execution_count": 45,
     "metadata": {},
     "output_type": "execute_result"
    }
   ],
   "source": [
    "y_pred[:,1]"
   ]
  },
  {
   "cell_type": "code",
   "execution_count": 46,
   "id": "342fdfca",
   "metadata": {},
   "outputs": [
    {
     "data": {
      "image/png": "[encoded data removed]",
      "text/plain": [
       "<Figure size 400x100 with 1 Axes>"
      ]
     },
     "metadata": {},
     "output_type": "display_data"
    }
   ],
   "source": [
    "\n",
    "plt.scatter(x.cpu(), y.cpu(), label=\"training data\", s=1, color=\"silver\")\n",
    "plt.plot(x_eval.cpu(), y_eval_mean.cpu(), label=\"true mean\", color=\"C3\")\n",
    "plt.scatter(x_eval.cpu(), y_pred[:,1].cpu(), label=\"predictions\", s=1)\n",
    "plt.ylim(-0.1, 1.1)\n",
    "plt.legend(loc=\"center left\", bbox_to_anchor=(1, 0.5)); plt.show()"
   ]
  }
 ],
 "metadata": {
  "kernelspec": {
   "display_name": "Python 3",
   "language": "python",
   "name": "python3"
  },
  "language_info": {
   "codemirror_mode": {
    "name": "ipython",
    "version": 3
   },
   "file_extension": ".py",
   "mimetype": "text/x-python",
   "name": "python",
   "nbconvert_exporter": "python",
   "pygments_lexer": "ipython3",
   "version": "3.9.6"
  }
 },
 "nbformat": 4,
 "nbformat_minor": 5
}
