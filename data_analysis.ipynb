{
 "cells": [
  {
   "cell_type": "markdown",
   "id": "aaf35119",
   "metadata": {},
   "source": [
    "# Setup"
   ]
  },
  {
   "cell_type": "code",
   "execution_count": 2,
   "id": "02421804",
   "metadata": {},
   "outputs": [],
   "source": [
    "import torch\n",
    "from engression import engression\n",
    "from src.simulator import binary_simulator, thresholder\n",
    "import pandas as pd\n",
    "import matplotlib.pyplot as plt\n",
    "\n",
    "df = pd.read_csv('data/processed.csv')"
   ]
  },
  {
   "cell_type": "code",
   "execution_count": 3,
   "id": "7b7792fb",
   "metadata": {},
   "outputs": [],
   "source": [
    "device = torch.device(\"cuda\" if torch.cuda.is_available() else \"cpu\")"
   ]
  },
  {
   "cell_type": "code",
   "execution_count": 4,
   "id": "6d19714f",
   "metadata": {},
   "outputs": [],
   "source": [
    "# Extract features and target\n",
    "x = df['thalach']\n",
    "y = df['num']"
   ]
  },
  {
   "cell_type": "code",
   "execution_count": 5,
   "id": "8ec041c6",
   "metadata": {},
   "outputs": [],
   "source": [
    "# Convert to tensors and move to device\n",
    "x=torch.tensor(x.values, dtype=torch.float32).view(-1, 1).to(device)\n",
    "y=torch.tensor(y.values, dtype=torch.float32).view(-1, 1).to(device)"
   ]
  },
  {
   "cell_type": "markdown",
   "id": "0ad7a28e",
   "metadata": {},
   "source": [
    "# Binary Engression"
   ]
  },
  {
   "cell_type": "code",
   "execution_count": 6,
   "id": "649c0bea",
   "metadata": {},
   "outputs": [
    {
     "name": "stdout",
     "output_type": "stream",
     "text": [
      "Running on CPU.\n",
      "\n",
      "Data is standardized for training only; the printed training losses are on the standardized scale. \n",
      "However during evaluation, the predictions, evaluation metrics, and plots will be on the original scale.\n",
      "\n",
      "Batch is larger than half of the sample size. Training based on full-batch gradient descent.\n",
      "[Epoch 1 (0%)] energy-loss: 0.8626,  E(|Y-Yhat|): 1.0185,  E(|Yhat-Yhat'|): 0.3118\n",
      "[Epoch 100 (20%)] energy-loss: 0.5484,  E(|Y-Yhat|): 1.1290,  E(|Yhat-Yhat'|): 1.1611\n",
      "[Epoch 200 (40%)] energy-loss: 0.4918,  E(|Y-Yhat|): 1.0864,  E(|Yhat-Yhat'|): 1.1893\n",
      "[Epoch 300 (60%)] energy-loss: 0.5066,  E(|Y-Yhat|): 1.0998,  E(|Yhat-Yhat'|): 1.1864\n",
      "[Epoch 400 (80%)] energy-loss: 0.5051,  E(|Y-Yhat|): 1.0487,  E(|Yhat-Yhat'|): 1.0874\n",
      "[Epoch 500 (100%)] energy-loss: 0.5287,  E(|Y-Yhat|): 1.0716,  E(|Yhat-Yhat'|): 1.0858\n",
      "\n",
      "Training loss on the original (non-standardized) scale:\n",
      "\tEnergy-loss: 0.2711,  E(|Y-Yhat|): 0.5337,  E(|Yhat-Yhat'|): 0.5252\n",
      "\n",
      "Prediction-loss E(|Y-Yhat|) and variance-loss E(|Yhat-Yhat'|) should ideally be equally large\n",
      "-- consider training for more epochs or adjusting hyperparameters if there is a mismatch \n"
     ]
    }
   ],
   "source": [
    "engressor = engression(x, y, lr=0.005, num_epochs=500, batch_size=1000, device=device)"
   ]
  },
  {
   "cell_type": "code",
   "execution_count": 7,
   "id": "b2dd45d1",
   "metadata": {},
   "outputs": [
    {
     "name": "stdout",
     "output_type": "stream",
     "text": [
      "Range of x: (71.0, 202.0)\n",
      "Evaluation range: (61.0, 212.0)\n"
     ]
    }
   ],
   "source": [
    "# Setting up evaluation points\n",
    "x_min = x.min().item()\n",
    "x_max = x.max().item()\n",
    "x_range = (x_min, x_max)\n",
    "print(\"Range of x:\", x_range)\n",
    "\n",
    "x_eval_range = (x_min - 10, x_max + 10)\n",
    "print(\"Evaluation range:\", x_eval_range)"
   ]
  },
  {
   "cell_type": "code",
   "execution_count": 8,
   "id": "ea25c7e2",
   "metadata": {},
   "outputs": [],
   "source": [
    "# Generate evaluation points\n",
    "x_eval = torch.linspace(x_eval_range[0], x_eval_range[1], steps=100).view(-1, 1).to(device)"
   ]
  },
  {
   "cell_type": "code",
   "execution_count": 9,
   "id": "196a51c3",
   "metadata": {},
   "outputs": [],
   "source": [
    "# Probability estimation\n",
    "y_sample = engressor.sample(x_eval, sample_size=1000)\n",
    "y_prob = (y_sample > 0.5).float().mean(dim=2).squeeze()"
   ]
  },
  {
   "cell_type": "code",
   "execution_count": null,
   "id": "7c26de4e",
   "metadata": {},
   "outputs": [
    {
     "data": {
      "image/png": "[encoded data removed]",
      "text/plain": [
       "<Figure size 640x480 with 1 Axes>"
      ]
     },
     "metadata": {},
     "output_type": "display_data"
    }
   ],
   "source": [
    "# Plotting\n",
    "plt.scatter(x_eval.cpu(), y_prob.cpu(), label=\"predictions\", s=1)\n",
    "plt.ylim(-0.1, 1.1)\n",
    "plt.xlabel(\"thalach\")\n",
    "plt.ylabel(\"Probability (num > 0.5)\")\n",
    "plt.title(\"Predicted Probability vs. maximum heart rate achieved\")\n",
    "plt.legend()\n",
    "plt.show()"
   ]
  }
 ],
 "metadata": {
  "kernelspec": {
   "display_name": "Python 3",
   "language": "python",
   "name": "python3"
  },
  "language_info": {
   "codemirror_mode": {
    "name": "ipython",
    "version": 3
   },
   "file_extension": ".py",
   "mimetype": "text/x-python",
   "name": "python",
   "nbconvert_exporter": "python",
   "pygments_lexer": "ipython3",
   "version": "3.9.6"
  }
 },
 "nbformat": 4,
 "nbformat_minor": 5
}
