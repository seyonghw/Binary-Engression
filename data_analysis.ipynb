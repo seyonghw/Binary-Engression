{
 "cells": [
  {
   "cell_type": "code",
   "execution_count": 1,
   "id": "12cf4ef3",
   "metadata": {},
   "outputs": [],
   "source": [
    "import pandas as pd\n",
    "\n",
    "df = pd.read_csv('data/processed.csv')"
   ]
  },
  {
   "cell_type": "code",
   "execution_count": 4,
   "id": "02421804",
   "metadata": {},
   "outputs": [],
   "source": [
    "import torch\n",
    "from engression import engression\n",
    "from src.simulator import binary_simulator, thresholder"
   ]
  },
  {
   "cell_type": "code",
   "execution_count": 5,
   "id": "7b7792fb",
   "metadata": {},
   "outputs": [],
   "source": [
    "device = torch.device(\"cuda\" if torch.cuda.is_available() else \"cpu\")"
   ]
  },
  {
   "cell_type": "code",
   "execution_count": 21,
   "id": "6d19714f",
   "metadata": {},
   "outputs": [],
   "source": [
    "x = df['thalach']\n",
    "y = df['num']"
   ]
  },
  {
   "cell_type": "code",
   "execution_count": 22,
   "id": "8ec041c6",
   "metadata": {},
   "outputs": [],
   "source": [
    "x=torch.tensor(x.values, dtype=torch.float32).view(-1, 1).to(device)\n",
    "y=torch.tensor(y.values, dtype=torch.float32).view(-1, 1).to(device)"
   ]
  },
  {
   "cell_type": "code",
   "execution_count": 26,
   "id": "649c0bea",
   "metadata": {},
   "outputs": [
    {
     "name": "stdout",
     "output_type": "stream",
     "text": [
      "Running on CPU.\n",
      "\n",
      "Data is standardized for training only; the printed training losses are on the standardized scale. \n",
      "However during evaluation, the predictions, evaluation metrics, and plots will be on the original scale.\n",
      "\n",
      "Batch is larger than half of the sample size. Training based on full-batch gradient descent.\n",
      "[Epoch 1 (0%)] energy-loss: 0.8546,  E(|Y-Yhat|): 1.0376,  E(|Yhat-Yhat'|): 0.3659\n",
      "[Epoch 100 (20%)] energy-loss: 0.5055,  E(|Y-Yhat|): 1.0891,  E(|Yhat-Yhat'|): 1.1671\n",
      "[Epoch 200 (40%)] energy-loss: 0.6190,  E(|Y-Yhat|): 1.2298,  E(|Yhat-Yhat'|): 1.2215\n",
      "[Epoch 300 (60%)] energy-loss: 0.5389,  E(|Y-Yhat|): 1.0752,  E(|Yhat-Yhat'|): 1.0724\n",
      "[Epoch 400 (80%)] energy-loss: 0.4886,  E(|Y-Yhat|): 1.0457,  E(|Yhat-Yhat'|): 1.1140\n",
      "[Epoch 500 (100%)] energy-loss: 0.4899,  E(|Y-Yhat|): 1.0322,  E(|Yhat-Yhat'|): 1.0846\n",
      "\n",
      "Training loss on the original (non-standardized) scale:\n",
      "\tEnergy-loss: 0.2331,  E(|Y-Yhat|): 0.5220,  E(|Yhat-Yhat'|): 0.5778\n",
      "\n",
      "Prediction-loss E(|Y-Yhat|) and variance-loss E(|Yhat-Yhat'|) should ideally be equally large\n",
      "-- consider training for more epochs or adjusting hyperparameters if there is a mismatch \n"
     ]
    }
   ],
   "source": [
    "engressor = engression(x, y, lr=0.005, num_epochs=500, batch_size=1000, device=device)"
   ]
  },
  {
   "cell_type": "code",
   "execution_count": 28,
   "id": "b2dd45d1",
   "metadata": {},
   "outputs": [
    {
     "name": "stdout",
     "output_type": "stream",
     "text": [
      "Range of x: (71.0, 202.0)\n"
     ]
    }
   ],
   "source": [
    "x_min = x.min().item()\n",
    "x_max = x.max().item()\n",
    "x_range = (x_min, x_max)\n",
    "print(\"Range of x:\", x_range)"
   ]
  },
  {
   "cell_type": "code",
   "execution_count": 29,
   "id": "7f69633d",
   "metadata": {},
   "outputs": [
    {
     "name": "stdout",
     "output_type": "stream",
     "text": [
      "Evaluation range: (61.0, 212.0)\n"
     ]
    }
   ],
   "source": [
    "x_eval_range = (x_min - 10, x_max + 10)\n",
    "print(\"Evaluation range:\", x_eval_range)"
   ]
  },
  {
   "cell_type": "code",
   "execution_count": 30,
   "id": "ea25c7e2",
   "metadata": {},
   "outputs": [],
   "source": [
    "x_eval = torch.linspace(x_eval_range[0], x_eval_range[1], steps=100).view(-1, 1).to(device)"
   ]
  },
  {
   "cell_type": "code",
   "execution_count": 32,
   "id": "196a51c3",
   "metadata": {},
   "outputs": [],
   "source": [
    "y_sample = engressor.sample(x_eval, sample_size=1000)"
   ]
  },
  {
   "cell_type": "code",
   "execution_count": 34,
   "id": "57305ed4",
   "metadata": {},
   "outputs": [],
   "source": [
    "y_prob = (y_sample > 0.5).float().mean(dim=2).squeeze()"
   ]
  },
  {
   "cell_type": "code",
   "execution_count": 35,
   "id": "6d1b84be",
   "metadata": {},
   "outputs": [],
   "source": [
    "import matplotlib.pyplot as plt"
   ]
  },
  {
   "cell_type": "code",
   "execution_count": 36,
   "id": "7c26de4e",
   "metadata": {},
   "outputs": [
    {
     "data": {
      "text/plain": [
       "(-0.1, 1.1)"
      ]
     },
     "execution_count": 36,
     "metadata": {},
     "output_type": "execute_result"
    },
    {
     "data": {
      "image/png": "[encoded data removed]",
      "text/plain": [
       "<Figure size 640x480 with 1 Axes>"
      ]
     },
     "metadata": {},
     "output_type": "display_data"
    }
   ],
   "source": [
    "plt.scatter(x_eval.cpu(), y_prob.cpu(), label=\"predictions\", s=1)\n",
    "plt.ylim(-0.1, 1.1)"
   ]
  }
 ],
 "metadata": {
  "kernelspec": {
   "display_name": "Python 3",
   "language": "python",
   "name": "python3"
  },
  "language_info": {
   "codemirror_mode": {
    "name": "ipython",
    "version": 3
   },
   "file_extension": ".py",
   "mimetype": "text/x-python",
   "name": "python",
   "nbconvert_exporter": "python",
   "pygments_lexer": "ipython3",
   "version": "3.9.6"
  }
 },
 "nbformat": 4,
 "nbformat_minor": 5
}
