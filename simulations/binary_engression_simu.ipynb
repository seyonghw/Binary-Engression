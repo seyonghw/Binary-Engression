{
 "cells": [
  {
   "cell_type": "code",
   "execution_count": 2,
   "id": "7d7bed49",
   "metadata": {},
   "outputs": [],
   "source": [
    "import sys\n",
    "sys.path.append(\"..\")\n",
    "import torch\n",
    "import matplotlib.pyplot as plt\n",
    "plt.rcParams[\"figure.figsize\"] = [4,1]\n",
    "torch.manual_seed(0)\n",
    "\n",
    "from engression import engression\n",
    "from src.simulator import binary_simulator, thresholder"
   ]
  },
  {
   "cell_type": "code",
   "execution_count": 3,
   "id": "fb3206c7",
   "metadata": {},
   "outputs": [],
   "source": [
    "device = torch.device(\"cuda\" if torch.cuda.is_available() else \"cpu\")"
   ]
  },
  {
   "cell_type": "markdown",
   "id": "a2913b72",
   "metadata": {},
   "source": [
    "# Simulate binary data"
   ]
  },
  {
   "cell_type": "code",
   "execution_count": 4,
   "id": "de37c0d1",
   "metadata": {},
   "outputs": [],
   "source": [
    "x, y = binary_simulator(\"cubic\", n=10000, x_lower=0, x_upper=1, noise_std=0.05, train=True, device=device)\n",
    "x_eval, y_eval_med, y_eval_mean = binary_simulator(\"cubic\", n=1000, x_lower=0, x_upper=1, noise_std=0.05, train=False, device=device)\n"
   ]
  },
  {
   "cell_type": "code",
   "execution_count": null,
   "id": "20be18ff",
   "metadata": {},
   "outputs": [
    {
     "data": {
      "text/plain": [
       "<matplotlib.collections.PathCollection at 0x11dcdf040>"
      ]
     },
     "execution_count": 6,
     "metadata": {},
     "output_type": "execute_result"
    },
    {
     "data": {
      "image/png": "[encoded data removed]",
      "text/plain": [
       "<Figure size 400x100 with 1 Axes>"
      ]
     },
     "metadata": {},
     "output_type": "display_data"
    }
   ],
   "source": [
    "# Data visualization\n",
    "plt.scatter(x.cpu(), y.cpu(), label=\"training data\", s=1, color=\"silver\")"
   ]
  },
  {
   "cell_type": "code",
   "execution_count": null,
   "id": "1df1a8b9",
   "metadata": {},
   "outputs": [
    {
     "data": {
      "text/plain": [
       "<matplotlib.collections.PathCollection at 0x11ed0f100>"
      ]
     },
     "execution_count": 7,
     "metadata": {},
     "output_type": "execute_result"
    },
    {
     "data": {
      "image/png": "[encoded data removed]",
      "text/plain": [
       "<Figure size 400x100 with 1 Axes>"
      ]
     },
     "metadata": {},
     "output_type": "display_data"
    }
   ],
   "source": [
    "# True probability\n",
    "plt.scatter(x_eval.cpu(), y_eval_mean.cpu(), label=\"true mean\", color=\"C3\")"
   ]
  },
  {
   "cell_type": "code",
   "execution_count": null,
   "id": "7713714c",
   "metadata": {},
   "outputs": [
    {
     "data": {
      "text/plain": [
       "<matplotlib.collections.PathCollection at 0x11e9cb940>"
      ]
     },
     "execution_count": 8,
     "metadata": {},
     "output_type": "execute_result"
    },
    {
     "data": {
      "image/png": "[encoded data removed]",
      "text/plain": [
       "<Figure size 400x100 with 1 Axes>"
      ]
     },
     "metadata": {},
     "output_type": "display_data"
    }
   ],
   "source": [
    "# Expected outcome after thresholding\n",
    "plt.scatter(x_eval.cpu(), y_eval_med.cpu(), label=\"true median\", color=\"C3\")"
   ]
  },
  {
   "cell_type": "markdown",
   "id": "fb898b12",
   "metadata": {},
   "source": [
    "# Binary Engression"
   ]
  },
  {
   "cell_type": "code",
   "execution_count": 9,
   "id": "6e676c96",
   "metadata": {},
   "outputs": [
    {
     "name": "stdout",
     "output_type": "stream",
     "text": [
      "Running on CPU.\n",
      "\n",
      "Data is standardized for training only; the printed training losses are on the standardized scale. \n",
      "However during evaluation, the predictions, evaluation metrics, and plots will be on the original scale.\n",
      "\n",
      "Training based on mini-batch gradient descent with a batch size of 1000.\n",
      "[Epoch 1 (0%), batch 9] energy-loss: 0.6191,  E(|Y-Yhat|): 1.1491,  E(|Yhat-Yhat'|): 1.0600\n",
      "[Epoch 100 (20%), batch 9] energy-loss: 0.4746,  E(|Y-Yhat|): 0.9482,  E(|Yhat-Yhat'|): 0.9473\n",
      "[Epoch 200 (40%), batch 9] energy-loss: 0.4029,  E(|Y-Yhat|): 0.8393,  E(|Yhat-Yhat'|): 0.8728\n",
      "[Epoch 300 (60%), batch 9] energy-loss: 0.3469,  E(|Y-Yhat|): 0.7040,  E(|Yhat-Yhat'|): 0.7141\n",
      "[Epoch 400 (80%), batch 9] energy-loss: 0.3080,  E(|Y-Yhat|): 0.6121,  E(|Yhat-Yhat'|): 0.6082\n",
      "[Epoch 500 (100%), batch 9] energy-loss: 0.2815,  E(|Y-Yhat|): 0.5792,  E(|Yhat-Yhat'|): 0.5954\n",
      "\n",
      "Training loss on the original (non-standardized) scale:\n",
      "\tEnergy-loss: 0.1367,  E(|Y-Yhat|): 0.2892,  E(|Yhat-Yhat'|): 0.3049\n",
      "\n",
      "Prediction-loss E(|Y-Yhat|) and variance-loss E(|Yhat-Yhat'|) should ideally be equally large\n",
      "-- consider training for more epochs or adjusting hyperparameters if there is a mismatch \n"
     ]
    }
   ],
   "source": [
    "\n",
    "# Fit an engression model\n",
    "engressor = engression(x, y, lr=0.005, num_epochs=500, batch_size=1000, device=device)"
   ]
  },
  {
   "cell_type": "code",
   "execution_count": 11,
   "id": "64863946",
   "metadata": {},
   "outputs": [
    {
     "name": "stdout",
     "output_type": "stream",
     "text": [
      "Engression model with\n",
      "\t number of layers: 2\n",
      "\t hidden dimensions: 100\n",
      "\t noise dimensions: 100\n",
      "\t residual blocks: False\n",
      "\t number of epochs: 500\n",
      "\t batch size: 1000\n",
      "\t learning rate: 0.005\n",
      "\t standardization: True\n",
      "\t training mode: False\n",
      "\t device: cpu\n",
      "\n",
      "Training loss (original scale):\n",
      "\t energy-loss: 0.14, \n",
      "\tE(|Y-Yhat|): 0.29, \n",
      "\tE(|Yhat-Yhat'|): 0.30\n"
     ]
    }
   ],
   "source": [
    "# Summarize model information\n",
    "engressor.summary()"
   ]
  },
  {
   "cell_type": "code",
   "execution_count": 12,
   "id": "703a8e27",
   "metadata": {},
   "outputs": [
    {
     "name": "stdout",
     "output_type": "stream",
     "text": [
      "L2 loss: 0.009396946057677269\n",
      "correlation between predicted and true means: 0.9708878397941589\n"
     ]
    }
   ],
   "source": [
    "# Evaluation\n",
    "print(\"L2 loss:\", engressor.eval_loss(x_eval, y_eval_mean, loss_type=\"l2\"))\n",
    "print(\"correlation between predicted and true means:\", engressor.eval_loss(x_eval, y_eval_mean, loss_type=\"cor\"))\n"
   ]
  },
  {
   "cell_type": "code",
   "execution_count": 13,
   "id": "1f4ad546",
   "metadata": {},
   "outputs": [],
   "source": [
    "# Predictions\n",
    "y_pred = engressor.predict(x_eval, target=\"mean\", sample_size=1000)"
   ]
  },
  {
   "cell_type": "code",
   "execution_count": 14,
   "id": "3c884f78",
   "metadata": {},
   "outputs": [
    {
     "data": {
      "image/png": "[encoded data removed]",
      "text/plain": [
       "<Figure size 400x100 with 1 Axes>"
      ]
     },
     "metadata": {},
     "output_type": "display_data"
    }
   ],
   "source": [
    "\n",
    "plt.scatter(x.cpu(), y.cpu(), label=\"training data\", s=1, color=\"silver\")\n",
    "plt.plot(x_eval.cpu(), y_eval_mean.cpu(), label=\"true mean\", color=\"C3\")\n",
    "plt.scatter(x_eval.cpu(), y_pred.cpu(), label=\"predictions\", s=1)\n",
    "plt.ylim(-0.1, 1.1)\n",
    "plt.legend(loc=\"center left\", bbox_to_anchor=(1, 0.5)); plt.show()"
   ]
  },
  {
   "cell_type": "markdown",
   "id": "00818a1f",
   "metadata": {},
   "source": [
    "## Prediction via sampling"
   ]
  },
  {
   "cell_type": "code",
   "execution_count": 15,
   "id": "d7328b39",
   "metadata": {},
   "outputs": [],
   "source": [
    "y_sample = engressor.sample(x_eval, sample_size=1000)"
   ]
  },
  {
   "cell_type": "code",
   "execution_count": null,
   "id": "93267e4f",
   "metadata": {},
   "outputs": [
    {
     "data": {
      "text/plain": [
       "tensor([0.0000, 0.0000, 0.0000, 0.0000, 0.0000, 0.0000, 0.0000, 0.0000, 0.0000,\n",
       "        0.0000, 0.0000, 0.0000, 0.0000, 0.0000, 0.0000, 0.0000, 0.0000, 0.0000,\n",
       "        0.0000, 0.0000, 0.0000, 0.0000, 0.0000, 0.0000, 0.0000, 0.0000, 0.0000,\n",
       "        0.0000, 0.0000, 0.0000, 0.0000, 0.0000, 0.0000, 0.0000, 0.0000, 0.0000,\n",
       "        0.0000, 0.0000, 0.0000, 0.0000, 0.0000, 0.0000, 0.0010, 0.0000, 0.0010,\n",
       "        0.0000, 0.0000, 0.0000, 0.0000, 0.0000, 0.0000, 0.0000, 0.0000, 0.0000,\n",
       "        0.0000, 0.0000, 0.0010, 0.0000, 0.0000, 0.0000, 0.0000, 0.0000, 0.0000,\n",
       "        0.0000, 0.0000, 0.0000, 0.0000, 0.0000, 0.0000, 0.0000, 0.0000, 0.0010,\n",
       "        0.0000, 0.0010, 0.0000, 0.0000, 0.0000, 0.0010, 0.0020, 0.0030, 0.0020,\n",
       "        0.0000, 0.0000, 0.0000, 0.0000, 0.0020, 0.0020, 0.0000, 0.0010, 0.0000,\n",
       "        0.0000, 0.0000, 0.0010, 0.0020, 0.0040, 0.0060, 0.0010, 0.0030, 0.0020,\n",
       "        0.0010, 0.0010, 0.0030, 0.0010, 0.0020, 0.0030, 0.0020, 0.0040, 0.0020,\n",
       "        0.0010, 0.0040, 0.0030, 0.0000, 0.0060, 0.0060, 0.0080, 0.0030, 0.0040,\n",
       "        0.0070, 0.0010, 0.0020, 0.0060, 0.0040, 0.0140, 0.0040, 0.0110, 0.0100,\n",
       "        0.0070, 0.0110, 0.0080, 0.0150, 0.0120, 0.0150, 0.0180, 0.0100, 0.0150,\n",
       "        0.0130, 0.0090, 0.0150, 0.0200, 0.0170, 0.0250, 0.0260, 0.0210, 0.0240,\n",
       "        0.0280, 0.0200, 0.0280, 0.0250, 0.0250, 0.0330, 0.0170, 0.0300, 0.0340,\n",
       "        0.0410, 0.0330, 0.0320, 0.0380, 0.0310, 0.0570, 0.0340, 0.0530, 0.0350,\n",
       "        0.0510, 0.0580, 0.0420, 0.0500, 0.0540, 0.0640, 0.0630, 0.0720, 0.0680,\n",
       "        0.0820, 0.0760, 0.0600, 0.0700, 0.0680, 0.0710, 0.0750, 0.0980, 0.0900,\n",
       "        0.0870, 0.0960, 0.1030, 0.0920, 0.1050, 0.1020, 0.1200, 0.1230, 0.1020,\n",
       "        0.1360, 0.1150, 0.1440, 0.1280, 0.1280, 0.1330, 0.1510, 0.1540, 0.1620,\n",
       "        0.1690, 0.1640, 0.1370, 0.1890, 0.1940, 0.1580, 0.1730, 0.1990, 0.1990,\n",
       "        0.2020, 0.2120, 0.2180, 0.2310, 0.2370, 0.2400, 0.2280, 0.2300, 0.2500,\n",
       "        0.2670, 0.2310, 0.2600, 0.2900, 0.2990, 0.2900, 0.2800, 0.3120, 0.3030,\n",
       "        0.3140, 0.3170, 0.3300, 0.3550, 0.3090, 0.3230, 0.3440, 0.3650, 0.3500,\n",
       "        0.3710, 0.3880, 0.3760, 0.3950, 0.4260, 0.4030, 0.4220, 0.4150, 0.4220,\n",
       "        0.4490, 0.4370, 0.4720, 0.4490, 0.4760, 0.4530, 0.4780, 0.5020, 0.5220,\n",
       "        0.5290, 0.4890, 0.5100, 0.5380, 0.5260, 0.5600, 0.5830, 0.5820, 0.5240,\n",
       "        0.6000, 0.5840, 0.5880, 0.5750, 0.6140, 0.5930, 0.6230, 0.6470, 0.6210,\n",
       "        0.6390, 0.6680, 0.6750, 0.6580, 0.6620, 0.6900, 0.6750, 0.6880, 0.7230,\n",
       "        0.7000, 0.7140, 0.7390, 0.7100, 0.7200, 0.7370, 0.7280, 0.7530, 0.7610,\n",
       "        0.7450, 0.7540, 0.7570, 0.7580, 0.8060, 0.8180, 0.7980, 0.7970, 0.8020,\n",
       "        0.8120, 0.8080, 0.8050, 0.8220, 0.8210, 0.8520, 0.8300, 0.8450, 0.8410,\n",
       "        0.8410, 0.8710, 0.8590, 0.8750, 0.8730, 0.8770, 0.8660, 0.8660, 0.8730,\n",
       "        0.8890, 0.9060, 0.9010, 0.9020, 0.8970, 0.9010, 0.9120, 0.9100, 0.9170,\n",
       "        0.9210, 0.9190, 0.9190, 0.9260, 0.9230, 0.9360, 0.9330, 0.9490, 0.9370,\n",
       "        0.9510, 0.9460, 0.9400, 0.9520, 0.9410, 0.9420, 0.9600, 0.9490, 0.9650,\n",
       "        0.9590, 0.9570, 0.9580, 0.9590, 0.9620, 0.9580, 0.9700, 0.9700, 0.9690,\n",
       "        0.9820, 0.9690, 0.9710, 0.9720, 0.9700, 0.9810, 0.9720, 0.9720, 0.9770,\n",
       "        0.9670, 0.9780, 0.9800, 0.9770, 0.9760, 0.9830, 0.9850, 0.9800, 0.9800,\n",
       "        0.9820, 0.9740, 0.9780, 0.9820, 0.9840, 0.9840, 0.9760, 0.9820, 0.9800,\n",
       "        0.9810, 0.9760, 0.9790, 0.9820, 0.9790, 0.9820, 0.9810, 0.9760, 0.9750,\n",
       "        0.9780, 0.9720, 0.9830, 0.9750, 0.9740, 0.9720, 0.9790, 0.9820, 0.9760,\n",
       "        0.9740, 0.9650, 0.9670, 0.9690, 0.9710, 0.9720, 0.9610, 0.9660, 0.9660,\n",
       "        0.9640, 0.9680, 0.9600, 0.9580, 0.9570, 0.9430, 0.9380, 0.9500, 0.9470,\n",
       "        0.9510, 0.9470, 0.9400, 0.9490, 0.9450, 0.9430, 0.9270, 0.9260, 0.9380,\n",
       "        0.9350, 0.9380, 0.9300, 0.9190, 0.9360, 0.9050, 0.9230, 0.9250, 0.9000,\n",
       "        0.9090, 0.9000, 0.8950, 0.8940, 0.8890, 0.8740, 0.8910, 0.8880, 0.8670,\n",
       "        0.8840, 0.8730, 0.8450, 0.8610, 0.8580, 0.8730, 0.8460, 0.8520, 0.8410,\n",
       "        0.8270, 0.8310, 0.8130, 0.8310, 0.8340, 0.8180, 0.8060, 0.8110, 0.8070,\n",
       "        0.7980, 0.7960, 0.7850, 0.7850, 0.7810, 0.7680, 0.7630, 0.7380, 0.7390,\n",
       "        0.7470, 0.7260, 0.7310, 0.6890, 0.7220, 0.7330, 0.6930, 0.6800, 0.7080,\n",
       "        0.6960, 0.6880, 0.6860, 0.6720, 0.6620, 0.6590, 0.6500, 0.6680, 0.6550,\n",
       "        0.6570, 0.6300, 0.6120, 0.6250, 0.5940, 0.5730, 0.5960, 0.5610, 0.5830,\n",
       "        0.5740, 0.5660, 0.5390, 0.5360, 0.5120, 0.5210, 0.4950, 0.5150, 0.5060,\n",
       "        0.4890, 0.4860, 0.4740, 0.4730, 0.4800, 0.4350, 0.4400, 0.4270, 0.4330,\n",
       "        0.4360, 0.4310, 0.3990, 0.4420, 0.3910, 0.3870, 0.4030, 0.3780, 0.3630,\n",
       "        0.3750, 0.3710, 0.3400, 0.3210, 0.3140, 0.3070, 0.3340, 0.2960, 0.2990,\n",
       "        0.2810, 0.2920, 0.2620, 0.2600, 0.2690, 0.2570, 0.2430, 0.2490, 0.2490,\n",
       "        0.2510, 0.2140, 0.1950, 0.2020, 0.1980, 0.2160, 0.1890, 0.1810, 0.1720,\n",
       "        0.1920, 0.1550, 0.1750, 0.1690, 0.1780, 0.1690, 0.1700, 0.1420, 0.1440,\n",
       "        0.1340, 0.1380, 0.1460, 0.1210, 0.1450, 0.1180, 0.1140, 0.1050, 0.1070,\n",
       "        0.1150, 0.1270, 0.1010, 0.1050, 0.0920, 0.1080, 0.0910, 0.0970, 0.0880,\n",
       "        0.0850, 0.0830, 0.0770, 0.0740, 0.0670, 0.0760, 0.0850, 0.0830, 0.0700,\n",
       "        0.0530, 0.0730, 0.0660, 0.0620, 0.0530, 0.0670, 0.0640, 0.0700, 0.0610,\n",
       "        0.0680, 0.0500, 0.0510, 0.0520, 0.0450, 0.0590, 0.0650, 0.0590, 0.0500,\n",
       "        0.0690, 0.0570, 0.0610, 0.0610, 0.0390, 0.0500, 0.0620, 0.0520, 0.0530,\n",
       "        0.0570, 0.0570, 0.0700, 0.0550, 0.0630, 0.0500, 0.0680, 0.0640, 0.0680,\n",
       "        0.0760, 0.0660, 0.0860, 0.0700, 0.0710, 0.0720, 0.0710, 0.0680, 0.0720,\n",
       "        0.0830, 0.0780, 0.0780, 0.0750, 0.0780, 0.0730, 0.0800, 0.0680, 0.0810,\n",
       "        0.0880, 0.0910, 0.0800, 0.0910, 0.0860, 0.1000, 0.0820, 0.0940, 0.0930,\n",
       "        0.1000, 0.0910, 0.1040, 0.1160, 0.1050, 0.1150, 0.1310, 0.1180, 0.1200,\n",
       "        0.1110, 0.1220, 0.1320, 0.1100, 0.1100, 0.1200, 0.1390, 0.1310, 0.1500,\n",
       "        0.1430, 0.1360, 0.1490, 0.1500, 0.1440, 0.1520, 0.1550, 0.1450, 0.1550,\n",
       "        0.1510, 0.1490, 0.1510, 0.1630, 0.1650, 0.1810, 0.2000, 0.1680, 0.1750,\n",
       "        0.1880, 0.1930, 0.1980, 0.1790, 0.2010, 0.2000, 0.1840, 0.2000, 0.2010,\n",
       "        0.2000, 0.2320, 0.2110, 0.2510, 0.2090, 0.2470, 0.2260, 0.2480, 0.2110,\n",
       "        0.2250, 0.2560, 0.2320, 0.2390, 0.2690, 0.2750, 0.2570, 0.2650, 0.2600,\n",
       "        0.2680, 0.2690, 0.2590, 0.2530, 0.2990, 0.2850, 0.2990, 0.3100, 0.2750,\n",
       "        0.3050, 0.3240, 0.2900, 0.3080, 0.3270, 0.3280, 0.3530, 0.3120, 0.3560,\n",
       "        0.3210, 0.3570, 0.3340, 0.3280, 0.3820, 0.3290, 0.3730, 0.3940, 0.3760,\n",
       "        0.3730, 0.3500, 0.3970, 0.3710, 0.4240, 0.3790, 0.3930, 0.4130, 0.4110,\n",
       "        0.3900, 0.3850, 0.4230, 0.4050, 0.4070, 0.4350, 0.4570, 0.4230, 0.4410,\n",
       "        0.4470, 0.4540, 0.4750, 0.4690, 0.4560, 0.4470, 0.4480, 0.4580, 0.4860,\n",
       "        0.4990, 0.4820, 0.4570, 0.4950, 0.5030, 0.4930, 0.4970, 0.4840, 0.5020,\n",
       "        0.5260, 0.5190, 0.5100, 0.5140, 0.5120, 0.5490, 0.5470, 0.5440, 0.5300,\n",
       "        0.5450, 0.5450, 0.5790, 0.5670, 0.5810, 0.5760, 0.5770, 0.5960, 0.5880,\n",
       "        0.5750, 0.5620, 0.6010, 0.5960, 0.6030, 0.5820, 0.6130, 0.6230, 0.6250,\n",
       "        0.6110, 0.5980, 0.6540, 0.6040, 0.6490, 0.6280, 0.6580, 0.6320, 0.6570,\n",
       "        0.6680, 0.6630, 0.6430, 0.6680, 0.6720, 0.6620, 0.6860, 0.6790, 0.7050,\n",
       "        0.6720, 0.6940, 0.6860, 0.6810, 0.6880, 0.7060, 0.7120, 0.7020, 0.7120,\n",
       "        0.7100, 0.7040, 0.7120, 0.7120, 0.7160, 0.7280, 0.7410, 0.7440, 0.7400,\n",
       "        0.7360, 0.7780, 0.7560, 0.7770, 0.7570, 0.7680, 0.7510, 0.7540, 0.7930,\n",
       "        0.7560, 0.7590, 0.7800, 0.7830, 0.7870, 0.7730, 0.8010, 0.7720, 0.8030,\n",
       "        0.8070, 0.7880, 0.8150, 0.8280, 0.8010, 0.8330, 0.7960, 0.8190, 0.8280,\n",
       "        0.8310, 0.8270, 0.8240, 0.8130, 0.8550, 0.8260, 0.8200, 0.8280, 0.8490,\n",
       "        0.8470, 0.8450, 0.8590, 0.8450, 0.8380, 0.8550, 0.8580, 0.8920, 0.8760,\n",
       "        0.8520, 0.8620, 0.8710, 0.8780, 0.8620, 0.8770, 0.8720, 0.8940, 0.8700,\n",
       "        0.8730, 0.8940, 0.8710, 0.8840, 0.8940, 0.8940, 0.9030, 0.8850, 0.8790,\n",
       "        0.9120, 0.9160, 0.9040, 0.9140, 0.9100, 0.9080, 0.9060, 0.9110, 0.9250,\n",
       "        0.9130, 0.9130, 0.9160, 0.9070, 0.9340, 0.9280, 0.9160, 0.9130, 0.9320,\n",
       "        0.9280, 0.9200, 0.9430, 0.9230, 0.9280, 0.9220, 0.9220, 0.9410, 0.9440,\n",
       "        0.9310, 0.9370, 0.9450, 0.9410, 0.9600, 0.9440, 0.9440, 0.9490, 0.9440,\n",
       "        0.9510, 0.9400, 0.9430, 0.9590, 0.9500, 0.9490, 0.9430, 0.9650, 0.9550,\n",
       "        0.9520, 0.9520, 0.9580, 0.9620, 0.9540, 0.9590, 0.9660, 0.9610, 0.9580,\n",
       "        0.9590, 0.9600, 0.9620, 0.9720, 0.9670, 0.9760, 0.9680, 0.9720, 0.9630,\n",
       "        0.9630, 0.9800, 0.9710, 0.9740, 0.9730, 0.9670, 0.9780, 0.9810, 0.9850,\n",
       "        0.9710, 0.9830, 0.9780, 0.9780, 0.9810, 0.9860, 0.9870, 0.9840, 0.9850,\n",
       "        0.9760, 0.9800, 0.9850, 0.9930, 0.9800, 0.9880, 0.9830, 0.9840, 0.9820,\n",
       "        0.9860, 0.9890, 0.9790, 0.9880, 0.9880, 0.9890, 0.9830, 0.9850, 0.9870,\n",
       "        0.9880])"
      ]
     },
     "execution_count": 23,
     "metadata": {},
     "output_type": "execute_result"
    }
   ],
   "source": [
    "# Predict probability via sampling\n",
    "y_prob = (y_sample > 0.5).float().mean(dim=2).squeeze()"
   ]
  },
  {
   "cell_type": "code",
   "execution_count": 24,
   "id": "68ce1cfc",
   "metadata": {},
   "outputs": [
    {
     "data": {
      "image/png": "[encoded data removed]",
      "text/plain": [
       "<Figure size 400x100 with 1 Axes>"
      ]
     },
     "metadata": {},
     "output_type": "display_data"
    }
   ],
   "source": [
    "\n",
    "plt.scatter(x.cpu(), y.cpu(), label=\"training data\", s=1, color=\"silver\")\n",
    "plt.plot(x_eval.cpu(), y_eval_mean.cpu(), label=\"true mean\", color=\"C3\")\n",
    "plt.scatter(x_eval.cpu(), y_prob.cpu(), label=\"predictions\", s=1)\n",
    "plt.ylim(-0.1, 1.1)\n",
    "plt.legend(loc=\"center left\", bbox_to_anchor=(1, 0.5)); plt.show()"
   ]
  },
  {
   "cell_type": "markdown",
   "id": "0e22b10f",
   "metadata": {},
   "source": [
    "# Binary Engression using classification mode"
   ]
  },
  {
   "cell_type": "code",
   "execution_count": 34,
   "id": "2587d1b4",
   "metadata": {},
   "outputs": [
    {
     "name": "stdout",
     "output_type": "stream",
     "text": [
      "Running on CPU.\n",
      "\n",
      "Data is standardized for training only; the printed training losses are on the standardized scale. \n",
      "However during evaluation, the predictions, evaluation metrics, and plots will be on the original scale.\n",
      "\n",
      "Training based on mini-batch gradient descent with a batch size of 1000.\n",
      "[Epoch 1 (0%), batch 9] energy-loss: 0.3695,  E(|Y-Yhat|): 0.4883,  E(|Yhat-Yhat'|): 0.2375\n",
      "[Epoch 100 (20%), batch 9] energy-loss: 0.2034,  E(|Y-Yhat|): 0.4159,  E(|Yhat-Yhat'|): 0.4250\n",
      "[Epoch 200 (40%), batch 9] energy-loss: 0.2089,  E(|Y-Yhat|): 0.4275,  E(|Yhat-Yhat'|): 0.4373\n",
      "[Epoch 300 (60%), batch 9] energy-loss: 0.1046,  E(|Y-Yhat|): 0.2281,  E(|Yhat-Yhat'|): 0.2471\n",
      "[Epoch 400 (80%), batch 9] energy-loss: 0.0887,  E(|Y-Yhat|): 0.1884,  E(|Yhat-Yhat'|): 0.1993\n",
      "[Epoch 500 (100%), batch 9] energy-loss: 0.0877,  E(|Y-Yhat|): 0.1788,  E(|Yhat-Yhat'|): 0.1821\n",
      "\n",
      "Training loss on the original (non-standardized) scale:\n",
      "\tEnergy-loss: 0.0847,  E(|Y-Yhat|): 0.1760,  E(|Yhat-Yhat'|): 0.1827\n",
      "\n",
      "Prediction-loss E(|Y-Yhat|) and variance-loss E(|Yhat-Yhat'|) should ideally be equally large\n",
      "-- consider training for more epochs or adjusting hyperparameters if there is a mismatch \n"
     ]
    }
   ],
   "source": [
    "# Fit an engression model\n",
    "engressor = engression(x, y, lr=0.005, num_epochs=500, batch_size=1000, device=device, classification=True)"
   ]
  },
  {
   "cell_type": "code",
   "execution_count": 35,
   "id": "d7eb577e",
   "metadata": {},
   "outputs": [
    {
     "name": "stdout",
     "output_type": "stream",
     "text": [
      "Engression model with\n",
      "\t number of layers: 2\n",
      "\t hidden dimensions: 100\n",
      "\t noise dimensions: 100\n",
      "\t residual blocks: False\n",
      "\t number of epochs: 500\n",
      "\t batch size: 1000\n",
      "\t learning rate: 0.005\n",
      "\t standardization: True\n",
      "\t training mode: False\n",
      "\t device: cpu\n",
      "\n",
      "Training loss (original scale):\n",
      "\t energy-loss: 0.08, \n",
      "\tE(|Y-Yhat|): 0.18, \n",
      "\tE(|Yhat-Yhat'|): 0.18\n"
     ]
    }
   ],
   "source": [
    "# Summarize model information\n",
    "engressor.summary()"
   ]
  },
  {
   "cell_type": "code",
   "execution_count": 36,
   "id": "5d62250f",
   "metadata": {},
   "outputs": [
    {
     "name": "stdout",
     "output_type": "stream",
     "text": [
      "L2 loss: 0.0010801423341035843\n",
      "correlation between predicted and true means: 0.9970585107803345\n"
     ]
    }
   ],
   "source": [
    "# Evaluation\n",
    "print(\"L2 loss:\", engressor.eval_loss(x_eval, y_eval_mean, loss_type=\"l2\"))\n",
    "print(\"correlation between predicted and true means:\", engressor.eval_loss(x_eval, y_eval_mean, loss_type=\"cor\"))\n"
   ]
  },
  {
   "cell_type": "code",
   "execution_count": 37,
   "id": "51ac450a",
   "metadata": {},
   "outputs": [],
   "source": [
    "# Predictions\n",
    "y_pred = engressor.predict(x_eval, target=\"mean\", sample_size=1000)"
   ]
  },
  {
   "cell_type": "code",
   "execution_count": 38,
   "id": "f9a31678",
   "metadata": {},
   "outputs": [
    {
     "data": {
      "image/png": "[encoded data removed]",
      "text/plain": [
       "<Figure size 400x100 with 1 Axes>"
      ]
     },
     "metadata": {},
     "output_type": "display_data"
    }
   ],
   "source": [
    "\n",
    "plt.scatter(x.cpu(), y.cpu(), label=\"training data\", s=1, color=\"silver\")\n",
    "plt.plot(x_eval.cpu(), y_eval_mean.cpu(), label=\"true mean\", color=\"C3\")\n",
    "plt.scatter(x_eval.cpu(), y_pred.cpu(), label=\"predictions\", s=1)\n",
    "plt.ylim(-0.1, 1.1)\n",
    "plt.legend(loc=\"center left\", bbox_to_anchor=(1, 0.5)); plt.show()"
   ]
  }
 ],
 "metadata": {
  "kernelspec": {
   "display_name": "Python 3",
   "language": "python",
   "name": "python3"
  },
  "language_info": {
   "codemirror_mode": {
    "name": "ipython",
    "version": 3
   },
   "file_extension": ".py",
   "mimetype": "text/x-python",
   "name": "python",
   "nbconvert_exporter": "python",
   "pygments_lexer": "ipython3",
   "version": "3.9.6"
  }
 },
 "nbformat": 4,
 "nbformat_minor": 5
}
