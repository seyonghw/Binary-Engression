{
 "cells": [
  {
   "cell_type": "code",
   "execution_count": 18,
   "id": "7d7bed49",
   "metadata": {},
   "outputs": [],
   "source": [
    "import sys\n",
    "sys.path.append(\"..\")\n",
    "import torch\n",
    "import matplotlib.pyplot as plt\n",
    "plt.rcParams[\"figure.figsize\"] = [4,1]\n",
    "torch.manual_seed(0)\n",
    "\n",
    "from engression import engression\n",
    "from simulator import binary_simulator, thresholder"
   ]
  },
  {
   "cell_type": "code",
   "execution_count": 19,
   "id": "fb3206c7",
   "metadata": {},
   "outputs": [],
   "source": [
    "device = torch.device(\"cuda\" if torch.cuda.is_available() else \"cpu\")"
   ]
  },
  {
   "cell_type": "code",
   "execution_count": 20,
   "id": "de37c0d1",
   "metadata": {},
   "outputs": [],
   "source": [
    "x, y = binary_simulator(\"cubic\", n=10000, x_lower=0, x_upper=1, noise_std=0.05, train=True, device=device)\n",
    "x_eval, y_eval_med, y_eval_mean = binary_simulator(\"cubic\", n=1000, x_lower=0, x_upper=1, noise_std=0.05, train=False, device=device)\n"
   ]
  },
  {
   "cell_type": "code",
   "execution_count": 21,
   "id": "20be18ff",
   "metadata": {},
   "outputs": [
    {
     "data": {
      "text/plain": [
       "<matplotlib.collections.PathCollection at 0x14cbaf940>"
      ]
     },
     "execution_count": 21,
     "metadata": {},
     "output_type": "execute_result"
    },
    {
     "data": {
      "image/png": "[encoded data removed]",
      "text/plain": [
       "<Figure size 400x100 with 1 Axes>"
      ]
     },
     "metadata": {},
     "output_type": "display_data"
    }
   ],
   "source": [
    "plt.scatter(x.cpu(), y.cpu(), label=\"training data\", s=1, color=\"silver\")"
   ]
  },
  {
   "cell_type": "code",
   "execution_count": 22,
   "id": "1df1a8b9",
   "metadata": {},
   "outputs": [
    {
     "data": {
      "text/plain": [
       "<matplotlib.collections.PathCollection at 0x14b1c60a0>"
      ]
     },
     "execution_count": 22,
     "metadata": {},
     "output_type": "execute_result"
    },
    {
     "data": {
      "image/png": "[encoded data removed]",
      "text/plain": [
       "<Figure size 400x100 with 1 Axes>"
      ]
     },
     "metadata": {},
     "output_type": "display_data"
    }
   ],
   "source": [
    "plt.scatter(x_eval.cpu(), y_eval_mean.cpu(), label=\"true mean\", color=\"C3\")"
   ]
  },
  {
   "cell_type": "code",
   "execution_count": 23,
   "id": "7713714c",
   "metadata": {},
   "outputs": [
    {
     "data": {
      "text/plain": [
       "<matplotlib.collections.PathCollection at 0x14d02f0a0>"
      ]
     },
     "execution_count": 23,
     "metadata": {},
     "output_type": "execute_result"
    },
    {
     "data": {
      "image/png": "[encoded data removed]",
      "text/plain": [
       "<Figure size 400x100 with 1 Axes>"
      ]
     },
     "metadata": {},
     "output_type": "display_data"
    }
   ],
   "source": [
    "plt.scatter(x_eval.cpu(), y_eval_med.cpu(), label=\"true median\", color=\"C3\")"
   ]
  },
  {
   "cell_type": "code",
   "execution_count": 24,
   "id": "6e676c96",
   "metadata": {},
   "outputs": [
    {
     "name": "stdout",
     "output_type": "stream",
     "text": [
      "Running on CPU.\n",
      "\n",
      "Data is standardized for training only; the printed training losses are on the standardized scale. \n",
      "However during evaluation, the predictions, evaluation metrics, and plots will be on the original scale.\n",
      "\n",
      "Training based on mini-batch gradient descent with a batch size of 1000.\n",
      "[Epoch 1 (0%), batch 9] energy-loss: 0.6191,  E(|Y-Yhat|): 1.1491,  E(|Yhat-Yhat'|): 1.0600\n",
      "[Epoch 100 (20%), batch 9] energy-loss: 0.4746,  E(|Y-Yhat|): 0.9482,  E(|Yhat-Yhat'|): 0.9473\n",
      "[Epoch 200 (40%), batch 9] energy-loss: 0.4029,  E(|Y-Yhat|): 0.8393,  E(|Yhat-Yhat'|): 0.8728\n",
      "[Epoch 300 (60%), batch 9] energy-loss: 0.3469,  E(|Y-Yhat|): 0.7040,  E(|Yhat-Yhat'|): 0.7141\n",
      "[Epoch 400 (80%), batch 9] energy-loss: 0.3080,  E(|Y-Yhat|): 0.6121,  E(|Yhat-Yhat'|): 0.6082\n",
      "[Epoch 500 (100%), batch 9] energy-loss: 0.2815,  E(|Y-Yhat|): 0.5792,  E(|Yhat-Yhat'|): 0.5954\n",
      "\n",
      "Training loss on the original (non-standardized) scale:\n",
      "\tEnergy-loss: 0.1367,  E(|Y-Yhat|): 0.2892,  E(|Yhat-Yhat'|): 0.3049\n",
      "\n",
      "Prediction-loss E(|Y-Yhat|) and variance-loss E(|Yhat-Yhat'|) should ideally be equally large\n",
      "-- consider training for more epochs or adjusting hyperparameters if there is a mismatch \n"
     ]
    }
   ],
   "source": [
    "\n",
    "# Fit an engression model\n",
    "engressor = engression(x, y, lr=0.005, num_epochs=500, batch_size=1000, device=device)"
   ]
  },
  {
   "cell_type": "code",
   "execution_count": 25,
   "id": "64863946",
   "metadata": {},
   "outputs": [
    {
     "name": "stdout",
     "output_type": "stream",
     "text": [
      "Engression model with\n",
      "\t number of layers: 2\n",
      "\t hidden dimensions: 100\n",
      "\t noise dimensions: 100\n",
      "\t residual blocks: False\n",
      "\t number of epochs: 500\n",
      "\t batch size: 1000\n",
      "\t learning rate: 0.005\n",
      "\t standardization: True\n",
      "\t training mode: False\n",
      "\t device: cpu\n",
      "\n",
      "Training loss (original scale):\n",
      "\t energy-loss: 0.14, \n",
      "\tE(|Y-Yhat|): 0.29, \n",
      "\tE(|Yhat-Yhat'|): 0.30\n"
     ]
    }
   ],
   "source": [
    "# Summarize model information\n",
    "engressor.summary()"
   ]
  },
  {
   "cell_type": "code",
   "execution_count": 26,
   "id": "703a8e27",
   "metadata": {},
   "outputs": [
    {
     "name": "stdout",
     "output_type": "stream",
     "text": [
      "L2 loss: 0.009396946057677269\n",
      "correlation between predicted and true means: 0.9708878397941589\n"
     ]
    }
   ],
   "source": [
    "# Evaluation\n",
    "print(\"L2 loss:\", engressor.eval_loss(x_eval, y_eval_mean, loss_type=\"l2\"))\n",
    "print(\"correlation between predicted and true means:\", engressor.eval_loss(x_eval, y_eval_mean, loss_type=\"cor\"))\n"
   ]
  },
  {
   "cell_type": "code",
   "execution_count": 28,
   "id": "1f4ad546",
   "metadata": {},
   "outputs": [],
   "source": [
    "# Predictions\n",
    "y_pred = engressor.predict(x_eval, target=\"mean\", sample_size=1000)"
   ]
  },
  {
   "cell_type": "code",
   "execution_count": 30,
   "id": "3c884f78",
   "metadata": {},
   "outputs": [
    {
     "data": {
      "image/png": "[encoded data removed]",
      "text/plain": [
       "<Figure size 400x100 with 1 Axes>"
      ]
     },
     "metadata": {},
     "output_type": "display_data"
    }
   ],
   "source": [
    "\n",
    "plt.scatter(x.cpu(), y.cpu(), label=\"training data\", s=1, color=\"silver\")\n",
    "plt.plot(x_eval.cpu(), y_eval_mean.cpu(), label=\"true mean\", color=\"C3\")\n",
    "plt.scatter(x_eval.cpu(), y_pred.cpu(), label=\"predictions\", s=1)\n",
    "plt.ylim(-0.1, 1.1)\n",
    "plt.legend(loc=\"center left\", bbox_to_anchor=(1, 0.5)); plt.show()"
   ]
  },
  {
   "cell_type": "code",
   "execution_count": 32,
   "id": "7194cb12",
   "metadata": {},
   "outputs": [
    {
     "data": {
      "text/plain": [
       "tensor([[1.],\n",
       "        [1.],\n",
       "        [0.],\n",
       "        ...,\n",
       "        [1.],\n",
       "        [0.],\n",
       "        [1.]])"
      ]
     },
     "execution_count": 32,
     "metadata": {},
     "output_type": "execute_result"
    }
   ],
   "source": [
    "y"
   ]
  },
  {
   "cell_type": "code",
   "execution_count": 33,
   "id": "972f7b5d",
   "metadata": {},
   "outputs": [
    {
     "name": "stdout",
     "output_type": "stream",
     "text": [
      "tensor([[0, 1],\n",
      "        [0, 1],\n",
      "        [1, 0],\n",
      "        ...,\n",
      "        [0, 1],\n",
      "        [1, 0],\n",
      "        [0, 1]])\n"
     ]
    }
   ],
   "source": [
    "y_onehot = torch.nn.functional.one_hot(y.long().squeeze(), num_classes=2)\n",
    "print(y_onehot)"
   ]
  },
  {
   "cell_type": "code",
   "execution_count": 34,
   "id": "2587d1b4",
   "metadata": {},
   "outputs": [
    {
     "name": "stdout",
     "output_type": "stream",
     "text": [
      "Running on CPU.\n",
      "\n",
      "Data is standardized for training only; the printed training losses are on the standardized scale. \n",
      "However during evaluation, the predictions, evaluation metrics, and plots will be on the original scale.\n",
      "\n",
      "Training based on mini-batch gradient descent with a batch size of 1000.\n",
      "[Epoch 1 (0%), batch 9] energy-loss: 0.3695,  E(|Y-Yhat|): 0.4883,  E(|Yhat-Yhat'|): 0.2375\n",
      "[Epoch 100 (20%), batch 9] energy-loss: 0.2034,  E(|Y-Yhat|): 0.4159,  E(|Yhat-Yhat'|): 0.4250\n",
      "[Epoch 200 (40%), batch 9] energy-loss: 0.2089,  E(|Y-Yhat|): 0.4275,  E(|Yhat-Yhat'|): 0.4373\n",
      "[Epoch 300 (60%), batch 9] energy-loss: 0.1046,  E(|Y-Yhat|): 0.2281,  E(|Yhat-Yhat'|): 0.2471\n",
      "[Epoch 400 (80%), batch 9] energy-loss: 0.0887,  E(|Y-Yhat|): 0.1884,  E(|Yhat-Yhat'|): 0.1993\n",
      "[Epoch 500 (100%), batch 9] energy-loss: 0.0877,  E(|Y-Yhat|): 0.1788,  E(|Yhat-Yhat'|): 0.1821\n",
      "\n",
      "Training loss on the original (non-standardized) scale:\n",
      "\tEnergy-loss: 0.0847,  E(|Y-Yhat|): 0.1760,  E(|Yhat-Yhat'|): 0.1827\n",
      "\n",
      "Prediction-loss E(|Y-Yhat|) and variance-loss E(|Yhat-Yhat'|) should ideally be equally large\n",
      "-- consider training for more epochs or adjusting hyperparameters if there is a mismatch \n"
     ]
    }
   ],
   "source": [
    "# Fit an engression model\n",
    "engressor = engression(x, y, lr=0.005, num_epochs=500, batch_size=1000, device=device, classification=True)"
   ]
  },
  {
   "cell_type": "code",
   "execution_count": 35,
   "id": "d7eb577e",
   "metadata": {},
   "outputs": [
    {
     "name": "stdout",
     "output_type": "stream",
     "text": [
      "Engression model with\n",
      "\t number of layers: 2\n",
      "\t hidden dimensions: 100\n",
      "\t noise dimensions: 100\n",
      "\t residual blocks: False\n",
      "\t number of epochs: 500\n",
      "\t batch size: 1000\n",
      "\t learning rate: 0.005\n",
      "\t standardization: True\n",
      "\t training mode: False\n",
      "\t device: cpu\n",
      "\n",
      "Training loss (original scale):\n",
      "\t energy-loss: 0.08, \n",
      "\tE(|Y-Yhat|): 0.18, \n",
      "\tE(|Yhat-Yhat'|): 0.18\n"
     ]
    }
   ],
   "source": [
    "# Summarize model information\n",
    "engressor.summary()"
   ]
  },
  {
   "cell_type": "code",
   "execution_count": 36,
   "id": "5d62250f",
   "metadata": {},
   "outputs": [
    {
     "name": "stdout",
     "output_type": "stream",
     "text": [
      "L2 loss: 0.0010801423341035843\n",
      "correlation between predicted and true means: 0.9970585107803345\n"
     ]
    }
   ],
   "source": [
    "# Evaluation\n",
    "print(\"L2 loss:\", engressor.eval_loss(x_eval, y_eval_mean, loss_type=\"l2\"))\n",
    "print(\"correlation between predicted and true means:\", engressor.eval_loss(x_eval, y_eval_mean, loss_type=\"cor\"))\n"
   ]
  },
  {
   "cell_type": "code",
   "execution_count": 37,
   "id": "51ac450a",
   "metadata": {},
   "outputs": [],
   "source": [
    "# Predictions\n",
    "y_pred = engressor.predict(x_eval, target=\"mean\", sample_size=1000)"
   ]
  },
  {
   "cell_type": "code",
   "execution_count": 38,
   "id": "f9a31678",
   "metadata": {},
   "outputs": [
    {
     "data": {
      "image/png": "[encoded data removed]",
      "text/plain": [
       "<Figure size 400x100 with 1 Axes>"
      ]
     },
     "metadata": {},
     "output_type": "display_data"
    }
   ],
   "source": [
    "\n",
    "plt.scatter(x.cpu(), y.cpu(), label=\"training data\", s=1, color=\"silver\")\n",
    "plt.plot(x_eval.cpu(), y_eval_mean.cpu(), label=\"true mean\", color=\"C3\")\n",
    "plt.scatter(x_eval.cpu(), y_pred.cpu(), label=\"predictions\", s=1)\n",
    "plt.ylim(-0.1, 1.1)\n",
    "plt.legend(loc=\"center left\", bbox_to_anchor=(1, 0.5)); plt.show()"
   ]
  },
  {
   "cell_type": "code",
   "execution_count": 39,
   "id": "8aa53f05",
   "metadata": {},
   "outputs": [
    {
     "name": "stdout",
     "output_type": "stream",
     "text": [
      "Running on CPU.\n",
      "\n",
      "Data is standardized for training only; the printed training losses are on the standardized scale. \n",
      "However during evaluation, the predictions, evaluation metrics, and plots will be on the original scale.\n",
      "\n",
      "Training based on mini-batch gradient descent with a batch size of 1000.\n",
      "[Epoch 1 (0%), batch 9] energy-loss: 0.4687,  E(|Y-Yhat|): 0.6760,  E(|Yhat-Yhat'|): 0.4146\n",
      "[Epoch 100 (20%), batch 9] energy-loss: 0.3022,  E(|Y-Yhat|): 0.6018,  E(|Yhat-Yhat'|): 0.5990\n",
      "[Epoch 200 (40%), batch 9] energy-loss: 0.2952,  E(|Y-Yhat|): 0.5971,  E(|Yhat-Yhat'|): 0.6038\n",
      "[Epoch 300 (60%), batch 9] energy-loss: 0.2702,  E(|Y-Yhat|): 0.5796,  E(|Yhat-Yhat'|): 0.6188\n",
      "[Epoch 400 (80%), batch 9] energy-loss: 0.1191,  E(|Y-Yhat|): 0.2640,  E(|Yhat-Yhat'|): 0.2898\n",
      "[Epoch 500 (100%), batch 9] energy-loss: 0.1199,  E(|Y-Yhat|): 0.2535,  E(|Yhat-Yhat'|): 0.2672\n",
      "\n",
      "Training loss on the original (non-standardized) scale:\n",
      "\tEnergy-loss: 0.1227,  E(|Y-Yhat|): 0.2535,  E(|Yhat-Yhat'|): 0.2617\n",
      "\n",
      "Prediction-loss E(|Y-Yhat|) and variance-loss E(|Yhat-Yhat'|) should ideally be equally large\n",
      "-- consider training for more epochs or adjusting hyperparameters if there is a mismatch \n"
     ]
    }
   ],
   "source": [
    "# Fit an engression model\n",
    "engressor = engression(x, y_onehot, lr=0.005, num_epochs=500, batch_size=1000, device=device, classification=True)"
   ]
  },
  {
   "cell_type": "code",
   "execution_count": 40,
   "id": "1fcb28f0",
   "metadata": {},
   "outputs": [],
   "source": [
    "# Predictions\n",
    "y_pred = engressor.predict(x_eval, target=\"mean\", sample_size=1000)"
   ]
  },
  {
   "cell_type": "code",
   "execution_count": 45,
   "id": "f00841b5",
   "metadata": {},
   "outputs": [
    {
     "data": {
      "text/plain": [
       "tensor([8.6677e-09, 1.3962e-08, 2.0567e-08, 6.8695e-11, 1.3456e-09, 6.0308e-09,\n",
       "        5.3258e-09, 1.0441e-08, 2.8595e-08, 3.1894e-08, 2.1549e-06, 3.7519e-08,\n",
       "        3.6483e-07, 1.2568e-07, 9.0917e-08, 9.3230e-07, 3.8068e-08, 2.8005e-07,\n",
       "        2.3896e-08, 4.4685e-09, 7.4316e-09, 9.9361e-08, 1.5309e-05, 1.5397e-08,\n",
       "        2.3050e-08, 4.0166e-07, 2.1482e-08, 2.5539e-08, 2.1236e-08, 1.0808e-07,\n",
       "        7.0218e-08, 1.2853e-06, 8.4142e-07, 2.4273e-05, 1.2998e-04, 3.7094e-07,\n",
       "        6.1561e-06, 2.2850e-06, 3.2457e-07, 4.9874e-06, 2.0572e-06, 1.8138e-06,\n",
       "        8.0708e-07, 4.3284e-05, 7.2411e-06, 9.0558e-07, 3.8075e-05, 9.3237e-05,\n",
       "        7.4184e-06, 1.8771e-06, 4.5012e-05, 7.7282e-07, 1.3909e-04, 5.5849e-05,\n",
       "        9.0586e-06, 3.8647e-05, 1.6045e-06, 8.5210e-04, 7.6194e-06, 5.3603e-06,\n",
       "        2.0521e-05, 1.5165e-05, 5.6068e-04, 6.9072e-04, 1.9140e-05, 3.2369e-04,\n",
       "        3.0782e-06, 4.2693e-04, 4.8640e-05, 4.6159e-04, 6.4973e-04, 2.9999e-05,\n",
       "        9.2586e-04, 7.7183e-04, 7.9458e-05, 3.4606e-05, 6.5254e-05, 4.0220e-05,\n",
       "        8.4231e-05, 2.7992e-05, 8.6325e-06, 1.7756e-03, 1.1788e-03, 1.8562e-03,\n",
       "        8.1173e-04, 1.5325e-03, 5.0775e-04, 2.3101e-03, 2.4842e-03, 1.7112e-03,\n",
       "        9.0912e-04, 1.2665e-04, 2.8678e-03, 1.6239e-03, 9.3858e-04, 3.3797e-03,\n",
       "        2.7994e-04, 2.1137e-03, 4.0868e-03, 1.3147e-03, 1.0799e-03, 1.6881e-03,\n",
       "        3.0917e-03, 1.5370e-03, 1.5102e-03, 3.7559e-03, 4.2804e-03, 3.4388e-03,\n",
       "        1.6291e-03, 2.7854e-03, 3.0891e-03, 3.2954e-03, 3.1690e-03, 3.9415e-03,\n",
       "        6.3966e-03, 1.7645e-03, 6.5751e-03, 2.7910e-03, 6.5393e-03, 1.0320e-02,\n",
       "        8.7727e-03, 9.7859e-03, 4.9163e-03, 7.0496e-03, 8.1156e-03, 1.0794e-02,\n",
       "        6.7226e-03, 8.0540e-03, 7.6682e-03, 1.0579e-02, 9.8885e-03, 1.6518e-02,\n",
       "        1.0712e-02, 1.4363e-02, 9.5666e-03, 1.5266e-02, 1.4844e-02, 2.0097e-02,\n",
       "        1.1326e-02, 1.7322e-02, 1.8652e-02, 1.8407e-02, 1.8006e-02, 2.5537e-02,\n",
       "        2.3205e-02, 1.9705e-02, 2.1121e-02, 2.3752e-02, 2.7597e-02, 2.2595e-02,\n",
       "        2.1424e-02, 3.0895e-02, 2.5984e-02, 3.5248e-02, 3.9526e-02, 4.7018e-02,\n",
       "        4.1759e-02, 4.1699e-02, 4.3668e-02, 4.1038e-02, 4.5364e-02, 4.5042e-02,\n",
       "        5.1695e-02, 4.8305e-02, 5.1722e-02, 5.6066e-02, 5.2699e-02, 5.8307e-02,\n",
       "        6.0025e-02, 6.1126e-02, 7.1427e-02, 5.7275e-02, 6.4670e-02, 7.0930e-02,\n",
       "        6.9015e-02, 7.7345e-02, 6.6656e-02, 7.1015e-02, 8.8804e-02, 9.1188e-02,\n",
       "        8.3898e-02, 9.2810e-02, 9.0326e-02, 9.7275e-02, 9.7712e-02, 1.0278e-01,\n",
       "        1.0035e-01, 1.3257e-01, 1.1278e-01, 1.2014e-01, 1.1609e-01, 1.3610e-01,\n",
       "        1.2950e-01, 1.3002e-01, 1.4149e-01, 1.3730e-01, 1.4223e-01, 1.4807e-01,\n",
       "        1.6474e-01, 1.5817e-01, 1.7188e-01, 1.6191e-01, 1.8971e-01, 1.8287e-01,\n",
       "        1.8521e-01, 1.9208e-01, 1.6361e-01, 2.1497e-01, 1.9644e-01, 2.1379e-01,\n",
       "        2.1589e-01, 2.1191e-01, 2.4125e-01, 2.3512e-01, 2.5236e-01, 2.3092e-01,\n",
       "        2.5370e-01, 2.6157e-01, 2.8458e-01, 2.7795e-01, 2.9381e-01, 2.9033e-01,\n",
       "        2.9996e-01, 2.9387e-01, 2.7611e-01, 3.3624e-01, 3.0352e-01, 3.0433e-01,\n",
       "        2.9085e-01, 3.1689e-01, 3.2683e-01, 3.3375e-01, 3.4013e-01, 3.7649e-01,\n",
       "        3.4208e-01, 3.7361e-01, 3.8681e-01, 3.8535e-01, 3.7857e-01, 4.0963e-01,\n",
       "        4.0480e-01, 4.0463e-01, 4.4529e-01, 4.4927e-01, 4.3648e-01, 4.5182e-01,\n",
       "        4.7403e-01, 4.6104e-01, 4.6094e-01, 4.9567e-01, 4.7245e-01, 5.0394e-01,\n",
       "        4.9669e-01, 4.9547e-01, 5.1372e-01, 5.3323e-01, 5.3150e-01, 5.3359e-01,\n",
       "        5.4857e-01, 5.3999e-01, 5.6739e-01, 5.7297e-01, 5.6783e-01, 5.8435e-01,\n",
       "        5.6725e-01, 5.9285e-01, 5.9808e-01, 6.0326e-01, 6.2099e-01, 6.2846e-01,\n",
       "        6.4451e-01, 6.5002e-01, 6.4990e-01, 6.8838e-01, 6.5049e-01, 6.5719e-01,\n",
       "        6.6372e-01, 6.8744e-01, 6.7598e-01, 7.0674e-01, 7.0818e-01, 7.1181e-01,\n",
       "        7.0931e-01, 7.2223e-01, 7.3813e-01, 7.3476e-01, 7.3214e-01, 7.4950e-01,\n",
       "        7.3551e-01, 7.5502e-01, 7.7919e-01, 7.6427e-01, 7.7794e-01, 7.7154e-01,\n",
       "        7.8792e-01, 7.9338e-01, 7.8986e-01, 8.0470e-01, 8.0346e-01, 7.9989e-01,\n",
       "        8.2071e-01, 8.2870e-01, 8.2288e-01, 8.2115e-01, 8.3744e-01, 8.3227e-01,\n",
       "        8.4518e-01, 8.4276e-01, 8.4417e-01, 8.5832e-01, 8.5880e-01, 8.7095e-01,\n",
       "        8.7079e-01, 8.7614e-01, 8.6159e-01, 8.7433e-01, 8.8377e-01, 8.9872e-01,\n",
       "        8.9740e-01, 8.9580e-01, 9.0879e-01, 9.0583e-01, 9.0640e-01, 8.9941e-01,\n",
       "        9.0252e-01, 9.1616e-01, 9.2315e-01, 9.2751e-01, 9.1280e-01, 9.1261e-01,\n",
       "        9.3688e-01, 9.3374e-01, 9.2665e-01, 9.3131e-01, 9.4051e-01, 9.3175e-01,\n",
       "        9.5066e-01, 9.5225e-01, 9.4534e-01, 9.4790e-01, 9.5091e-01, 9.4827e-01,\n",
       "        9.5946e-01, 9.4585e-01, 9.5453e-01, 9.5506e-01, 9.5247e-01, 9.5799e-01,\n",
       "        9.5831e-01, 9.7056e-01, 9.7145e-01, 9.7580e-01, 9.6901e-01, 9.7027e-01,\n",
       "        9.5940e-01, 9.7043e-01, 9.6512e-01, 9.6018e-01, 9.7534e-01, 9.7590e-01,\n",
       "        9.7348e-01, 9.7456e-01, 9.7448e-01, 9.7334e-01, 9.7124e-01, 9.7294e-01,\n",
       "        9.8139e-01, 9.7844e-01, 9.7780e-01, 9.8251e-01, 9.7314e-01, 9.7667e-01,\n",
       "        9.7318e-01, 9.8030e-01, 9.8007e-01, 9.7937e-01, 9.7903e-01, 9.8618e-01,\n",
       "        9.7330e-01, 9.7467e-01, 9.7509e-01, 9.7415e-01, 9.7570e-01, 9.7500e-01,\n",
       "        9.7994e-01, 9.7279e-01, 9.7091e-01, 9.7628e-01, 9.7848e-01, 9.7205e-01,\n",
       "        9.6669e-01, 9.6812e-01, 9.6651e-01, 9.7522e-01, 9.6540e-01, 9.6238e-01,\n",
       "        9.7441e-01, 9.6903e-01, 9.6498e-01, 9.6558e-01, 9.5981e-01, 9.6405e-01,\n",
       "        9.5401e-01, 9.5846e-01, 9.5959e-01, 9.5883e-01, 9.5776e-01, 9.5657e-01,\n",
       "        9.6043e-01, 9.4058e-01, 9.5333e-01, 9.3714e-01, 9.3658e-01, 9.3829e-01,\n",
       "        9.3631e-01, 9.3825e-01, 9.3458e-01, 9.3380e-01, 9.2858e-01, 9.2717e-01,\n",
       "        9.3301e-01, 9.3458e-01, 9.2095e-01, 9.2664e-01, 9.1369e-01, 9.0917e-01,\n",
       "        9.0655e-01, 9.0187e-01, 9.0676e-01, 9.0772e-01, 8.9862e-01, 9.0171e-01,\n",
       "        8.9088e-01, 8.8983e-01, 8.7753e-01, 8.5587e-01, 8.7425e-01, 8.8386e-01,\n",
       "        8.4861e-01, 8.5342e-01, 8.6165e-01, 8.6289e-01, 8.3827e-01, 8.3756e-01,\n",
       "        8.3409e-01, 8.4491e-01, 8.2090e-01, 8.1976e-01, 8.1257e-01, 8.1909e-01,\n",
       "        8.3054e-01, 8.1639e-01, 7.8961e-01, 7.8103e-01, 7.7439e-01, 7.6835e-01,\n",
       "        7.8158e-01, 7.9019e-01, 7.6096e-01, 7.4568e-01, 7.5210e-01, 7.4851e-01,\n",
       "        7.4271e-01, 7.4113e-01, 7.3569e-01, 7.0879e-01, 7.0109e-01, 7.0963e-01,\n",
       "        7.0884e-01, 6.7763e-01, 6.9953e-01, 6.6667e-01, 6.6444e-01, 6.7865e-01,\n",
       "        6.5053e-01, 6.8013e-01, 6.4329e-01, 6.3902e-01, 6.3123e-01, 6.0833e-01,\n",
       "        6.2120e-01, 6.1388e-01, 6.1812e-01, 5.7445e-01, 6.1126e-01, 5.7170e-01,\n",
       "        5.7825e-01, 5.6412e-01, 5.7353e-01, 5.3661e-01, 5.5928e-01, 5.4355e-01,\n",
       "        5.2024e-01, 5.3474e-01, 4.8770e-01, 4.9426e-01, 4.9419e-01, 4.9330e-01,\n",
       "        4.9705e-01, 4.6584e-01, 4.7451e-01, 4.8234e-01, 4.3890e-01, 4.3766e-01,\n",
       "        4.5686e-01, 4.2873e-01, 4.3763e-01, 4.0279e-01, 4.4210e-01, 4.1525e-01,\n",
       "        3.9826e-01, 3.8624e-01, 3.6716e-01, 3.7789e-01, 3.5111e-01, 3.5800e-01,\n",
       "        3.4199e-01, 3.5003e-01, 3.2502e-01, 3.5838e-01, 3.5278e-01, 3.2178e-01,\n",
       "        3.4165e-01, 2.8332e-01, 3.0582e-01, 3.1968e-01, 2.7226e-01, 2.8723e-01,\n",
       "        2.7384e-01, 2.7414e-01, 2.6562e-01, 2.6372e-01, 2.5248e-01, 2.5987e-01,\n",
       "        2.7007e-01, 2.3262e-01, 2.4719e-01, 2.2014e-01, 2.2843e-01, 2.0359e-01,\n",
       "        2.0792e-01, 2.2470e-01, 2.0710e-01, 2.1184e-01, 2.1791e-01, 1.9383e-01,\n",
       "        1.7930e-01, 1.8761e-01, 1.7270e-01, 1.5674e-01, 1.6066e-01, 1.5623e-01,\n",
       "        1.5351e-01, 1.5621e-01, 1.4335e-01, 1.4679e-01, 1.3471e-01, 1.4700e-01,\n",
       "        1.3049e-01, 1.2598e-01, 1.1995e-01, 1.3065e-01, 1.2125e-01, 1.1021e-01,\n",
       "        1.0905e-01, 1.2354e-01, 1.1474e-01, 9.5346e-02, 1.0421e-01, 9.1952e-02,\n",
       "        8.9638e-02, 9.3458e-02, 8.7722e-02, 9.2902e-02, 9.3900e-02, 8.2218e-02,\n",
       "        7.4616e-02, 7.1179e-02, 6.5194e-02, 6.3121e-02, 7.3216e-02, 6.5677e-02,\n",
       "        7.3438e-02, 6.5758e-02, 6.3153e-02, 5.2549e-02, 5.8623e-02, 6.0842e-02,\n",
       "        5.8918e-02, 4.9262e-02, 5.5106e-02, 6.3196e-02, 6.1892e-02, 4.5584e-02,\n",
       "        4.0996e-02, 5.7868e-02, 5.3590e-02, 4.5521e-02, 3.8832e-02, 4.5389e-02,\n",
       "        4.2869e-02, 4.6511e-02, 4.9292e-02, 4.0151e-02, 4.1398e-02, 4.1814e-02,\n",
       "        4.6988e-02, 3.8263e-02, 3.6193e-02, 4.4868e-02, 3.7988e-02, 3.8640e-02,\n",
       "        4.1295e-02, 3.6891e-02, 3.2772e-02, 3.8051e-02, 4.0280e-02, 4.9041e-02,\n",
       "        4.5046e-02, 3.4411e-02, 3.9426e-02, 3.2167e-02, 3.5161e-02, 3.4075e-02,\n",
       "        4.5800e-02, 4.8524e-02, 5.2226e-02, 4.5444e-02, 3.4260e-02, 5.4657e-02,\n",
       "        4.7218e-02, 4.5403e-02, 4.8011e-02, 5.1202e-02, 5.6551e-02, 5.9825e-02,\n",
       "        6.0404e-02, 4.5020e-02, 4.8362e-02, 6.0030e-02, 4.7375e-02, 5.4672e-02,\n",
       "        5.3076e-02, 5.7898e-02, 6.4641e-02, 7.0175e-02, 6.5344e-02, 7.0152e-02,\n",
       "        6.8488e-02, 7.7625e-02, 7.8320e-02, 7.4637e-02, 7.8576e-02, 8.1969e-02,\n",
       "        8.5558e-02, 9.0724e-02, 7.0132e-02, 8.8745e-02, 9.3955e-02, 8.7548e-02,\n",
       "        9.3387e-02, 9.0625e-02, 9.1149e-02, 1.0340e-01, 1.0335e-01, 1.0828e-01,\n",
       "        1.1404e-01, 1.2126e-01, 1.3209e-01, 1.1292e-01, 1.1732e-01, 1.1704e-01,\n",
       "        1.4137e-01, 1.4095e-01, 1.4191e-01, 1.4627e-01, 1.4871e-01, 1.5854e-01,\n",
       "        1.6651e-01, 1.7275e-01, 1.7997e-01, 1.6009e-01, 1.6510e-01, 1.5483e-01,\n",
       "        1.6608e-01, 1.7698e-01, 1.7466e-01, 1.9613e-01, 2.0972e-01, 1.7843e-01,\n",
       "        2.0760e-01, 1.7507e-01, 2.1269e-01, 2.0304e-01, 2.1696e-01, 2.1701e-01,\n",
       "        2.1672e-01, 2.0872e-01, 2.2414e-01, 2.4749e-01, 2.4553e-01, 2.4335e-01,\n",
       "        2.6572e-01, 2.7859e-01, 2.7354e-01, 2.9424e-01, 2.6744e-01, 2.7803e-01,\n",
       "        3.0168e-01, 3.0033e-01, 3.1052e-01, 2.9558e-01, 2.9804e-01, 3.0508e-01,\n",
       "        3.0722e-01, 3.5096e-01, 3.5250e-01, 3.4327e-01, 3.5500e-01, 3.8103e-01,\n",
       "        3.5743e-01, 3.6268e-01, 3.8515e-01, 3.9440e-01, 3.9803e-01, 3.7986e-01,\n",
       "        4.1407e-01, 4.1082e-01, 4.4289e-01, 4.1828e-01, 4.2884e-01, 4.4492e-01,\n",
       "        4.4979e-01, 4.5221e-01, 4.7216e-01, 4.8455e-01, 4.5890e-01, 4.5714e-01,\n",
       "        4.8520e-01, 4.6612e-01, 4.9491e-01, 4.8170e-01, 5.0403e-01, 5.2726e-01,\n",
       "        5.3123e-01, 4.8148e-01, 5.5909e-01, 5.3976e-01, 5.3628e-01, 5.4682e-01,\n",
       "        5.5303e-01, 5.7995e-01, 5.7713e-01, 5.8155e-01, 5.9984e-01, 6.1739e-01,\n",
       "        6.2115e-01, 6.1253e-01, 6.1792e-01, 5.9934e-01, 6.5266e-01, 6.4553e-01,\n",
       "        6.2705e-01, 6.5556e-01, 6.4293e-01, 6.6234e-01, 6.5125e-01, 6.4641e-01,\n",
       "        6.8020e-01, 6.5425e-01, 6.9860e-01, 7.0537e-01, 6.9440e-01, 7.1741e-01,\n",
       "        7.1478e-01, 7.1373e-01, 7.1013e-01, 7.3061e-01, 7.2700e-01, 7.2782e-01,\n",
       "        7.3754e-01, 7.4516e-01, 7.4836e-01, 7.6304e-01, 7.5297e-01, 7.7375e-01,\n",
       "        7.9705e-01, 7.7891e-01, 7.9721e-01, 8.0776e-01, 8.0525e-01, 8.3074e-01,\n",
       "        8.2442e-01, 8.1459e-01, 8.2107e-01, 8.3516e-01, 8.3997e-01, 8.0967e-01,\n",
       "        8.4931e-01, 8.3371e-01, 8.3943e-01, 8.4288e-01, 8.3042e-01, 8.5362e-01,\n",
       "        8.4976e-01, 8.6805e-01, 8.6392e-01, 8.5734e-01, 8.6058e-01, 8.7993e-01,\n",
       "        8.8356e-01, 8.8530e-01, 8.8281e-01, 8.7855e-01, 8.7829e-01, 9.0250e-01,\n",
       "        9.1294e-01, 9.0894e-01, 9.0739e-01, 9.0681e-01, 9.0868e-01, 9.1349e-01,\n",
       "        9.1349e-01, 9.1969e-01, 9.2439e-01, 9.2040e-01, 9.2876e-01, 9.2515e-01,\n",
       "        9.3659e-01, 9.3868e-01, 9.3230e-01, 9.4107e-01, 9.4100e-01, 9.4968e-01,\n",
       "        9.4661e-01, 9.4434e-01, 9.5072e-01, 9.6311e-01, 9.5605e-01, 9.5195e-01,\n",
       "        9.6486e-01, 9.5281e-01, 9.5242e-01, 9.5800e-01, 9.6705e-01, 9.5730e-01,\n",
       "        9.6818e-01, 9.6723e-01, 9.6303e-01, 9.7274e-01, 9.6291e-01, 9.5890e-01,\n",
       "        9.7166e-01, 9.7126e-01, 9.7064e-01, 9.7828e-01, 9.6983e-01, 9.7801e-01,\n",
       "        9.8220e-01, 9.8115e-01, 9.7929e-01, 9.8374e-01, 9.7989e-01, 9.8686e-01,\n",
       "        9.7855e-01, 9.8117e-01, 9.8302e-01, 9.8385e-01, 9.8227e-01, 9.8703e-01,\n",
       "        9.8657e-01, 9.8260e-01, 9.8851e-01, 9.8927e-01, 9.8451e-01, 9.8784e-01,\n",
       "        9.9051e-01, 9.9054e-01, 9.9304e-01, 9.9513e-01, 9.9528e-01, 9.9186e-01,\n",
       "        9.9102e-01, 9.9186e-01, 9.9232e-01, 9.9469e-01, 9.8996e-01, 9.9663e-01,\n",
       "        9.9686e-01, 9.9451e-01, 9.9419e-01, 9.9660e-01, 9.9586e-01, 9.9451e-01,\n",
       "        9.9619e-01, 9.9629e-01, 9.9756e-01, 9.9730e-01, 9.9056e-01, 9.9811e-01,\n",
       "        9.9700e-01, 9.9609e-01, 9.9681e-01, 9.9731e-01, 9.9831e-01, 9.9705e-01,\n",
       "        9.9678e-01, 9.9766e-01, 9.9891e-01, 9.9873e-01, 9.9740e-01, 9.9998e-01,\n",
       "        9.9917e-01, 9.9965e-01, 9.9753e-01, 9.9885e-01, 9.9864e-01, 9.9870e-01,\n",
       "        9.9817e-01, 9.9868e-01, 9.9813e-01, 9.9997e-01, 9.9921e-01, 9.9993e-01,\n",
       "        9.9872e-01, 9.9974e-01, 9.9972e-01, 9.9996e-01, 9.9992e-01, 9.9802e-01,\n",
       "        9.9918e-01, 9.9990e-01, 1.0000e+00, 9.9984e-01, 9.9911e-01, 9.9984e-01,\n",
       "        9.9994e-01, 1.0000e+00, 9.9999e-01, 9.9992e-01, 1.0000e+00, 1.0000e+00,\n",
       "        9.9934e-01, 9.9991e-01, 1.0000e+00, 9.9907e-01, 9.9971e-01, 9.9908e-01,\n",
       "        1.0000e+00, 1.0000e+00, 1.0000e+00, 9.9989e-01, 1.0000e+00, 9.9918e-01,\n",
       "        9.9950e-01, 1.0000e+00, 9.9999e-01, 1.0000e+00, 9.9998e-01, 1.0000e+00,\n",
       "        9.9905e-01, 1.0000e+00, 1.0000e+00, 9.9902e-01, 9.9899e-01, 1.0000e+00,\n",
       "        1.0000e+00, 1.0000e+00, 1.0000e+00, 1.0000e+00, 1.0000e+00, 1.0000e+00,\n",
       "        1.0000e+00, 1.0000e+00, 1.0000e+00, 1.0000e+00, 1.0000e+00, 1.0000e+00,\n",
       "        1.0000e+00, 1.0000e+00, 1.0000e+00, 1.0000e+00, 1.0000e+00, 1.0000e+00,\n",
       "        1.0000e+00, 1.0000e+00, 1.0000e+00, 1.0000e+00, 1.0000e+00, 1.0000e+00,\n",
       "        1.0000e+00, 1.0000e+00, 1.0000e+00, 1.0000e+00, 1.0000e+00, 1.0000e+00,\n",
       "        1.0000e+00, 1.0000e+00, 1.0000e+00, 1.0000e+00])"
      ]
     },
     "execution_count": 45,
     "metadata": {},
     "output_type": "execute_result"
    }
   ],
   "source": [
    "y_pred[:,1]"
   ]
  },
  {
   "cell_type": "code",
   "execution_count": 46,
   "id": "342fdfca",
   "metadata": {},
   "outputs": [
    {
     "data": {
      "image/png": "[encoded data removed]",
      "text/plain": [
       "<Figure size 400x100 with 1 Axes>"
      ]
     },
     "metadata": {},
     "output_type": "display_data"
    }
   ],
   "source": [
    "\n",
    "plt.scatter(x.cpu(), y.cpu(), label=\"training data\", s=1, color=\"silver\")\n",
    "plt.plot(x_eval.cpu(), y_eval_mean.cpu(), label=\"true mean\", color=\"C3\")\n",
    "plt.scatter(x_eval.cpu(), y_pred[:,1].cpu(), label=\"predictions\", s=1)\n",
    "plt.ylim(-0.1, 1.1)\n",
    "plt.legend(loc=\"center left\", bbox_to_anchor=(1, 0.5)); plt.show()"
   ]
  }
 ],
 "metadata": {
  "kernelspec": {
   "display_name": "Python 3",
   "language": "python",
   "name": "python3"
  },
  "language_info": {
   "codemirror_mode": {
    "name": "ipython",
    "version": 3
   },
   "file_extension": ".py",
   "mimetype": "text/x-python",
   "name": "python",
   "nbconvert_exporter": "python",
   "pygments_lexer": "ipython3",
   "version": "3.9.6"
  }
 },
 "nbformat": 4,
 "nbformat_minor": 5
}
